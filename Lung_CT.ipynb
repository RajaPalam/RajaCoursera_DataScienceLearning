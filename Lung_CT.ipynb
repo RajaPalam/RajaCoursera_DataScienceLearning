{
  "cells": [
    {
      "cell_type": "markdown",
      "metadata": {
        "id": "view-in-github",
        "colab_type": "text"
      },
      "source": [
        "<a href=\"https://colab.research.google.com/github/RajaPalam/RajaCoursera_DataScienceLearning/blob/main/Lung_CT.ipynb\" target=\"_parent\"><img src=\"https://colab.research.google.com/assets/colab-badge.svg\" alt=\"Open In Colab\"/></a>"
      ]
    },
    {
      "cell_type": "markdown",
      "metadata": {
        "id": "6R3lxgbmnAyS"
      },
      "source": [
        "## Importing Libraries"
      ]
    },
    {
      "cell_type": "code",
      "execution_count": 1,
      "metadata": {
        "colab": {
          "base_uri": "https://localhost:8080/"
        },
        "id": "O9nXc83KnP1m",
        "outputId": "40cbde09-5fa0-465c-dd8f-f78a8a83cebf"
      },
      "outputs": [
        {
          "output_type": "stream",
          "name": "stdout",
          "text": [
            "Drive already mounted at /content/drive; to attempt to forcibly remount, call drive.mount(\"/content/drive\", force_remount=True).\n"
          ]
        }
      ],
      "source": [
        "from google.colab import drive\n",
        "drive.mount('/content/drive')"
      ]
    },
    {
      "cell_type": "code",
      "execution_count": 2,
      "metadata": {
        "id": "o5fZ_2HzjZFo",
        "outputId": "916735c7-f33d-426c-f575-49ec0adca1e1",
        "colab": {
          "base_uri": "https://localhost:8080/"
        }
      },
      "outputs": [
        {
          "output_type": "stream",
          "name": "stdout",
          "text": [
            "Looking in indexes: https://pypi.org/simple, https://us-python.pkg.dev/colab-wheels/public/simple/\n",
            "\u001b[31mERROR: Could not find a version that satisfies the requirement opencv (from versions: none)\u001b[0m\n",
            "\u001b[31mERROR: No matching distribution found for opencv\u001b[0m\n"
          ]
        }
      ],
      "source": [
        "!pip install opencv"
      ]
    },
    {
      "cell_type": "code",
      "execution_count": 3,
      "metadata": {
        "id": "Up_3pdcAnAyX",
        "scrolled": true,
        "tags": []
      },
      "outputs": [],
      "source": [
        "import os\n",
        "import cv2\n",
        "import pandas as pd\n",
        "import numpy as np\n",
        "import keras\n",
        "import tensorflow as tf\n",
        "import sklearn\n",
        "import seaborn as sns\n",
        "import pandas as pd\n",
        "\n",
        "\n",
        "import matplotlib.pyplot as plt\n",
        "\n",
        "import warnings\n",
        "warnings.filterwarnings(\"ignore\")"
      ]
    },
    {
      "cell_type": "code",
      "execution_count": 4,
      "metadata": {
        "id": "bSKV0prynAyY",
        "tags": []
      },
      "outputs": [],
      "source": [
        "# File Directory for both the train and test\n",
        "train_path = \"/content/drive/MyDrive/RajaProject/Lung_CT/train\"\n",
        "test_path = \"/content/drive/MyDrive/RajaProject/Lung_CT/test\""
      ]
    },
    {
      "cell_type": "code",
      "execution_count": 5,
      "metadata": {
        "colab": {
          "base_uri": "https://localhost:8080/"
        },
        "id": "-lDzgHF1nAyZ",
        "outputId": "fbce7ce7-b43a-4628-8557-2a0b32bcea8a",
        "scrolled": true,
        "tags": []
      },
      "outputs": [
        {
          "output_type": "stream",
          "name": "stdout",
          "text": [
            "{'0': 856, '3': 841, '2': 509, '1': 798} \n",
            "\n",
            " \n",
            "\n",
            " {'3': 20, '2': 53, '1': 26, '0': 30}\n"
          ]
        }
      ],
      "source": [
        "def GetDatasetSize(path):\n",
        "    num_of_image = {}\n",
        "    for folder in os.listdir(path):\n",
        "        # Counting the Number of Files in the Folder\n",
        "        num_of_image[folder] = len(os.listdir(os.path.join(path, folder)));\n",
        "    return num_of_image;\n",
        "\n",
        "train_set = GetDatasetSize(train_path)\n",
        "test_set = GetDatasetSize(test_path)\n",
        "print(train_set,\"\\n\\n\",\"\\n\\n\",test_set)"
      ]
    },
    {
      "cell_type": "code",
      "execution_count": 6,
      "metadata": {
        "colab": {
          "base_uri": "https://localhost:8080/",
          "height": 297
        },
        "id": "TsNCp3fgnAya",
        "outputId": "21b26e40-b66f-49f3-d202-6dcaf6862611",
        "tags": []
      },
      "outputs": [
        {
          "output_type": "display_data",
          "data": {
            "text/plain": [
              "<Figure size 432x288 with 1 Axes>"
            ],
            "image/png": "[encoded data removed]"
          },
          "metadata": {
            "needs_background": "light"
          }
        }
      ],
      "source": [
        "#!pip install matplotlib --upgrade\n",
        "labels = ['adenocarcinoma','large.cell.carcinoma', 'normal','squamous.cell.carcinoma']\n",
        "train_list = list(train_set.values())\n",
        "#val_list = list(val_set.values())\n",
        "test_list = list(test_set.values())\n",
        "\n",
        "x = np.arange(len(labels))  # the label locations\n",
        "width = 0.25  # the width of the bars\n",
        "\n",
        "fig, ax = plt.subplots()\n",
        "rects1 = ax.bar(x - width, train_list, width, label='Train')\n",
        "#rects2 = ax.bar(x, val_list, width, label='Val')\n",
        "rects3 = ax.bar(x + width, test_list, width, label='Test')\n",
        "\n",
        "# Add some text for labels, title and custom x-axis tick labels, etc.\n",
        "ax.set_ylabel('Images Count')\n",
        "ax.set_title('Dataset')\n",
        "ax.set_xticks(x, labels)\n",
        "plt.xticks(rotation=15)\n",
        "ax.legend()\n",
        "\n",
        "ax.bar_label(rects1)\n",
        "#ax.bar_label(rects2)\n",
        "ax.bar_label(rects3)\n",
        "\n",
        "fig.tight_layout()\n",
        "\n",
        "plt.show()"
      ]
    },
    {
      "cell_type": "markdown",
      "metadata": {
        "id": "En_Y-ibdnAyb"
      },
      "source": [
        "## Importing Keras for Image Classification"
      ]
    },
    {
      "cell_type": "code",
      "execution_count": 7,
      "metadata": {
        "id": "D3gB7zD-nAyb",
        "tags": []
      },
      "outputs": [],
      "source": [
        "\n",
        "import tensorflow.keras\n",
        "from tensorflow.keras import layers\n",
        "from tensorflow.keras import Model \n",
        "from tensorflow.keras.models import Sequential\n",
        "from tensorflow.keras.preprocessing import image\n",
        "from tensorflow.keras.callbacks import ModelCheckpoint, EarlyStopping\n",
        "from tensorflow.keras.preprocessing.image import ImageDataGenerator\n",
        "from tensorflow.keras.applications.vgg16 import VGG16, preprocess_input\n",
        "from tensorflow.keras.models import load_model, Model\n",
        "from tensorflow.keras.layers import Dense,Conv2D, Flatten, MaxPool2D, Dropout, BatchNormalization\n",
        "from keras.layers import Dense, Dropout, Activation, Flatten"
      ]
    },
    {
      "cell_type": "code",
      "execution_count": 8,
      "metadata": {
        "id": "Jqsx_vfrnAyc",
        "tags": [],
        "colab": {
          "base_uri": "https://localhost:8080/"
        },
        "outputId": "ff4f2363-f3de-45f4-fe13-95c6c2caed5a"
      },
      "outputs": [
        {
          "output_type": "stream",
          "name": "stdout",
          "text": [
            "Found 2405 images belonging to 4 classes.\n"
          ]
        }
      ],
      "source": [
        "# generate training,testing and validation batches \n",
        "\n",
        "                                                \n",
        "train_datagen = ImageDataGenerator(rescale = 1/255,\n",
        "                                  horizontal_flip = True,\n",
        "                                 validation_split= 0.2,\n",
        "                                  fill_mode = 'nearest',\n",
        "                                  zoom_range=0.2,\n",
        "                                  shear_range = 0.2,\n",
        "                                  width_shift_range=0.2,\n",
        "                                  height_shift_range=0.2,\n",
        "                                  rotation_range=0.4)\n",
        "\n",
        "train_data = train_datagen.flow_from_directory(train_path,\n",
        "                                                batch_size = 32,\n",
        "                                                shuffle =True,\n",
        "                                                target_size = (128,128),\n",
        "                                                class_mode = 'categorical',\n",
        "                                                subset = 'training'  )"
      ]
    },
    {
      "cell_type": "code",
      "execution_count": 9,
      "metadata": {
        "id": "87T1W_binAyd",
        "tags": [],
        "colab": {
          "base_uri": "https://localhost:8080/"
        },
        "outputId": "3f9d7f85-c7c7-428a-8961-138879fe95e2"
      },
      "outputs": [
        {
          "output_type": "execute_result",
          "data": {
            "text/plain": [
              "{'0': 0, '1': 1, '2': 2, '3': 3}"
            ]
          },
          "metadata": {},
          "execution_count": 9
        }
      ],
      "source": [
        "train_data.class_indices"
      ]
    },
    {
      "cell_type": "code",
      "execution_count": 10,
      "metadata": {
        "id": "OO5u_4FknAyd",
        "tags": [],
        "colab": {
          "base_uri": "https://localhost:8080/"
        },
        "outputId": "b857f228-9b07-4ba9-bf79-daa419f22f6e"
      },
      "outputs": [
        {
          "output_type": "stream",
          "name": "stdout",
          "text": [
            "Found 599 images belonging to 4 classes.\n"
          ]
        }
      ],
      "source": [
        "#val_datagen = ImageDataGenerator(rescale = 1.0/255.0)\n",
        "val_data = train_datagen.flow_from_directory(train_path,\n",
        "                                                   batch_size = 32,\n",
        "                                                   target_size =(128,128),\n",
        "                                                     shuffle=True,\n",
        "                                                   class_mode = 'categorical',\n",
        "                                                   subset = \"validation\")"
      ]
    },
    {
      "cell_type": "code",
      "execution_count": 11,
      "metadata": {
        "id": "PYqjYj9knAye",
        "tags": [],
        "colab": {
          "base_uri": "https://localhost:8080/"
        },
        "outputId": "5a90c339-10ab-40e8-a845-c3fcec4da54a"
      },
      "outputs": [
        {
          "output_type": "execute_result",
          "data": {
            "text/plain": [
              "{'0': 0, '1': 1, '2': 2, '3': 3}"
            ]
          },
          "metadata": {},
          "execution_count": 11
        }
      ],
      "source": [
        "val_data.class_indices"
      ]
    },
    {
      "cell_type": "code",
      "execution_count": 12,
      "metadata": {
        "id": "gRAZMQXlnAye",
        "tags": [],
        "colab": {
          "base_uri": "https://localhost:8080/"
        },
        "outputId": "318f0d18-0ef4-468d-808d-6da73cf98dbf"
      },
      "outputs": [
        {
          "output_type": "stream",
          "name": "stdout",
          "text": [
            "Found 129 images belonging to 4 classes.\n"
          ]
        }
      ],
      "source": [
        "test_datagen = ImageDataGenerator(rescale = 1.0/255.0)\n",
        "test_data = test_datagen.flow_from_directory(test_path,\n",
        "                                                   batch_size = 5,\n",
        "                                             shuffle = True,\n",
        "                                                   target_size = (128,128),\n",
        "                                                   class_mode = 'categorical')"
      ]
    },
    {
      "cell_type": "code",
      "execution_count": 13,
      "metadata": {
        "id": "iZh71vCynAye",
        "tags": [],
        "colab": {
          "base_uri": "https://localhost:8080/"
        },
        "outputId": "e6792dca-ef9f-47fa-95e0-6832bde544ed"
      },
      "outputs": [
        {
          "output_type": "execute_result",
          "data": {
            "text/plain": [
              "{'0': 0, '1': 1, '2': 2, '3': 3}"
            ]
          },
          "metadata": {},
          "execution_count": 13
        }
      ],
      "source": [
        "test_data.class_indices"
      ]
    },
    {
      "cell_type": "markdown",
      "metadata": {
        "id": "tIzhjdwCnAyf"
      },
      "source": [
        "## CNN Model"
      ]
    },
    {
      "cell_type": "code",
      "execution_count": 14,
      "metadata": {
        "id": "lz5ZTor535DA"
      },
      "outputs": [],
      "source": [
        "# model = Sequential() \n",
        "\n",
        "# model.add(Conv2D(filters=32, kernel_size= (3,3), activation= 'relu', input_shape=(128,128,3)) )\n",
        "# model.add(BatchNormalization())\n",
        "# model.add(MaxPool2D(pool_size=(2,2)))\n",
        "# model.add(Conv2D(filters=64, kernel_size=(3,3), activation='relu' ))\n",
        "# model.add(Conv2D(filters=64, kernel_size=(3,3), activation='relu' ))\n",
        "# model.add(BatchNormalization())\n",
        "# model.add(MaxPool2D(pool_size=(2,2)))\n",
        "# model.add(Conv2D(filters=128, kernel_size=(3,3), activation='relu' ))\n",
        "# model.add(BatchNormalization())\n",
        "# model.add(MaxPool2D(pool_size=(2,2)))\n",
        "# model.add(Conv2D(filters=256, kernel_size=(3,3), activation='relu' ))\n",
        "# model.add(Conv2D(filters=256, kernel_size=(3,3), activation='relu' ))\n",
        "# model.add(BatchNormalization())\n",
        "# model.add(MaxPool2D(pool_size=(2,2)))\n",
        "# model.add(Conv2D(filters=480, kernel_size=(3,3), activation='relu' ))\n",
        "# model.add(BatchNormalization())\n",
        "# model.add(MaxPool2D(pool_size=(2,2)))\n",
        "\n",
        "\n",
        "# model.add(Dropout(rate=0.25))\n",
        "# # model.add(Flatten())\n",
        "# model.add(Dense(units=300, activation='relu'))\n",
        "# model.add(Dropout(rate=0.25))\n",
        "# model.add(Dense(units=4, activation='softmax'))\n",
        " \n",
        "# model.summary()"
      ]
    },
    {
      "cell_type": "code",
      "execution_count": 15,
      "metadata": {
        "id": "0PEYE_P_jZFy"
      },
      "outputs": [],
      "source": [
        "# model = Sequential()\n",
        "# model.add(Conv2D(32 , (3,3) , strides = 1 , padding = 'same' , activation = 'relu' , input_shape = (128,128,3)))\n",
        "# model.add(BatchNormalization())\n",
        "# model.add(MaxPool2D((2,2) , strides = 2 , padding = 'same'))\n",
        "# model.add(Conv2D(64 , (3,3) , strides = 1 , padding = 'same' , activation = 'relu'))\n",
        "# model.add(Dropout(0.1))\n",
        "# model.add(BatchNormalization())\n",
        "# model.add(MaxPool2D((2,2) , strides = 2 , padding = 'same'))\n",
        "# model.add(Conv2D(64 , (3,3) , strides = 1 , padding = 'same' , activation = 'relu'))\n",
        "# model.add(BatchNormalization())\n",
        "# model.add(MaxPool2D((2,2) , strides = 2 , padding = 'same'))\n",
        "# model.add(Conv2D(128 , (3,3) , strides = 1 , padding = 'same' , activation = 'relu'))\n",
        "# model.add(Dropout(0.2))\n",
        "# model.add(BatchNormalization())\n",
        "# model.add(MaxPool2D((2,2) , strides = 2 , padding = 'same'))\n",
        "# model.add(Conv2D(256 , (3,3) , strides = 1 , padding = 'same' , activation = 'relu'))\n",
        "# model.add(Dropout(0.2))\n",
        "# model.add(BatchNormalization())\n",
        "# model.add(MaxPool2D((2,2) , strides = 2 , padding = 'same'))\n",
        "# model.add(Flatten())\n",
        "# model.add(Dense(units = 128 , activation = 'relu'))\n",
        "# model.add(Dropout(0.2))\n",
        "# model.add(Dense(units = 4 , activation = 'sigmoid'))\n",
        "# model.compile(optimizer = \"adam\" , loss = 'categorical_crossentropy' , metrics = ['accuracy'])\n",
        "# model.summary()"
      ]
    },
    {
      "cell_type": "code",
      "execution_count": 15,
      "metadata": {
        "scrolled": true,
        "id": "HyUX7iLEjZFy"
      },
      "outputs": [],
      "source": [
        "\n",
        "\n"
      ]
    },
    {
      "cell_type": "code",
      "execution_count": 16,
      "metadata": {
        "id": "xzHUhwshjZFz"
      },
      "outputs": [],
      "source": [
        "# #currently running  model\n",
        "# model = Sequential()\n",
        "\n",
        "# model.add(Conv2D(32, (3, 3), input_shape = (128,128,3)))\n",
        "\n",
        "# model.add(Activation('relu'))\n",
        "# model.add(MaxPool2D(pool_size=(2, 2)))\n",
        "\n",
        "# model.add(Conv2D(64, (3, 3), activation='relu'))\n",
        "# model.add(MaxPool2D(pool_size=(2, 2)))\n",
        "# model.add(Conv2D(128, (3, 3), activation='relu'))\n",
        "# model.add(MaxPool2D(pool_size=(2, 2)))\n",
        "\n",
        "# model.add(Flatten())\n",
        "# model.add(Dropout(0.3))\n",
        "# model.add(Dense(16))\n",
        "# model.add(Dense(4, activation='softmax'))\n",
        "\n",
        "# model.summary()\n",
        "# model.compile(optimizer='adam', loss='categorical_crossentropy', metrics=['accuracy']  )"
      ]
    },
    {
      "cell_type": "code",
      "execution_count": 17,
      "metadata": {
        "id": "Tl0TZwTPjZF0"
      },
      "outputs": [],
      "source": [
        "#model.compile(optimizer='adam', loss='categorical_crossentropy', metrics=['accuracy']  )"
      ]
    },
    {
      "cell_type": "code",
      "execution_count": 18,
      "metadata": {
        "execution": {
          "iopub.execute_input": "2022-01-13T12:46:32.251471Z",
          "iopub.status.busy": "2022-01-13T12:46:32.250916Z",
          "iopub.status.idle": "2022-01-13T12:46:34.748742Z",
          "shell.execute_reply": "2022-01-13T12:46:34.748053Z",
          "shell.execute_reply.started": "2022-01-13T12:46:32.251433Z"
        },
        "id": "0SU2a_8OnAyf"
      },
      "outputs": [],
      "source": [
        "# #currently running model\n",
        "# model = Sequential() \n",
        "\n",
        "# model.add(Conv2D(filters=32, kernel_size= (3,3), activation= 'relu', input_shape=(128,128,3)) )\n",
        "\n",
        "# # model.add(Conv2D(filters=32, kernel_size=(3,3), activation='relu' ))\n",
        "# model.add(MaxPool2D(pool_size=(2,2)))\n",
        "\n",
        "# model.add(Conv2D(filters=64, kernel_size=(3,3), activation='relu' ))\n",
        "# model.add(MaxPool2D(pool_size=(2,2)))\n",
        "\n",
        "# model.add(Conv2D(filters=128, kernel_size=(3,3), activation='relu' ))\n",
        "# model.add(MaxPool2D(pool_size=(2,2)))\n",
        "\n",
        "# model.add(Dropout(rate=0.25))\n",
        "\n",
        "# model.add(Flatten())\n",
        "# model.add(Dense(units=64, activation='relu'))\n",
        "# model.add(Dropout(rate=0.25))\n",
        "# model.add(Dense(units=4, activation='sigmoid'))\n",
        "\n",
        "# model.compile(optimizer='adam', loss='categorical_crossentropy', metrics=['accuracy']  )\n",
        " \n",
        "# model.summary()"
      ]
    },
    {
      "cell_type": "code",
      "execution_count": 19,
      "metadata": {
        "id": "F4Iunv4JjZF1"
      },
      "outputs": [],
      "source": [
        "# model = keras.Sequential()\n",
        "# model.add(layers.Conv2D(filters=32, kernel_size=(11, 11), \n",
        "#                         strides=(4, 4), activation=\"relu\", \n",
        "#                         input_shape=(64, 64, 3)))\n",
        "# model.add(layers.BatchNormalization())\n",
        "# model.add(layers.MaxPool2D(pool_size=(3, 3), strides= (2, 2)))\n",
        "# model.add(layers.Conv2D(filters=64, kernel_size=(5, 5), \n",
        "#                         strides=(1, 1), activation=\"relu\", \n",
        "#                         padding=\"same\"))\n",
        "# model.add(layers.BatchNormalization())\n",
        "# model.add(layers.MaxPool2D(pool_size=(3, 3), strides=(2, 2)))\n",
        "# model.add(layers.Conv2D(filters=96, kernel_size=(3, 3), \n",
        "#                         strides=(1, 1), activation=\"relu\", \n",
        "#                         padding=\"same\"))\n",
        "# model.add(layers.BatchNormalization())\n",
        "# model.add(layers.Conv2D(filters=128, kernel_size=(3, 3), \n",
        "#                         strides=(1, 1), activation=\"relu\", \n",
        "#                         padding=\"same\"))\n",
        "# model.add(layers.BatchNormalization())\n",
        "# model.add(layers.Conv2D(filters=256, kernel_size=(3, 3), \n",
        "#                         strides=(1, 1), activation=\"relu\", \n",
        "#                         padding=\"same\"))\n",
        "# model.add(layers.BatchNormalization())\n",
        "# model.add(layers.MaxPool2D(pool_size=(3, 3), strides=(2, 2)))\n",
        "# model.add(layers.Flatten())\n",
        "# model.add(layers.Dense(300, activation=\"relu\"))\n",
        "# model.add(layers.Dropout(0.5))\n",
        "# model.add(layers.Dense(4, activation=\"softmax\"))\n",
        "# model.compile(loss='categorical_crossentropy', \n",
        "#               optimizer=tf.optimizers.SGD(lr=0.001), \n",
        "#               metrics=['accuracy'])\n",
        "# model.summary()"
      ]
    },
    {
      "cell_type": "code",
      "execution_count": 19,
      "metadata": {
        "execution": {
          "iopub.execute_input": "2022-01-13T12:46:47.141156Z",
          "iopub.status.busy": "2022-01-13T12:46:47.140896Z",
          "iopub.status.idle": "2022-01-13T12:46:47.146046Z",
          "shell.execute_reply": "2022-01-13T12:46:47.145141Z",
          "shell.execute_reply.started": "2022-01-13T12:46:47.141127Z"
        },
        "id": "u5Bg7C0_nAyf"
      },
      "outputs": [],
      "source": []
    },
    {
      "cell_type": "code",
      "execution_count": 20,
      "metadata": {
        "id": "Ch-SmmFSjZF3"
      },
      "outputs": [],
      "source": [
        "# Currently Using"
      ]
    },
    {
      "cell_type": "code",
      "execution_count": 21,
      "metadata": {
        "id": "If9livXtjZF3",
        "colab": {
          "base_uri": "https://localhost:8080/"
        },
        "outputId": "b69e6cca-2a52-40d1-d5fb-fb4d62a52f83"
      },
      "outputs": [
        {
          "output_type": "stream",
          "name": "stdout",
          "text": [
            "Model: \"sequential\"\n",
            "_________________________________________________________________\n",
            " Layer (type)                Output Shape              Param #   \n",
            "=================================================================\n",
            " conv2d (Conv2D)             (None, 128, 128, 32)      896       \n",
            "                                                                 \n",
            " max_pooling2d (MaxPooling2D  (None, 64, 64, 32)       0         \n",
            " )                                                               \n",
            "                                                                 \n",
            " conv2d_1 (Conv2D)           (None, 64, 64, 32)        9248      \n",
            "                                                                 \n",
            " max_pooling2d_1 (MaxPooling  (None, 32, 32, 32)       0         \n",
            " 2D)                                                             \n",
            "                                                                 \n",
            " conv2d_2 (Conv2D)           (None, 32, 32, 64)        18496     \n",
            "                                                                 \n",
            " conv2d_3 (Conv2D)           (None, 32, 32, 256)       147712    \n",
            "                                                                 \n",
            " conv2d_4 (Conv2D)           (None, 32, 32, 128)       295040    \n",
            "                                                                 \n",
            " average_pooling2d (AverageP  (None, 16, 16, 128)      0         \n",
            " ooling2D)                                                       \n",
            "                                                                 \n",
            " conv2d_5 (Conv2D)           (None, 16, 16, 256)       131328    \n",
            "                                                                 \n",
            " conv2d_6 (Conv2D)           (None, 16, 16, 64)        147520    \n",
            "                                                                 \n",
            " average_pooling2d_1 (Averag  (None, 8, 8, 64)         0         \n",
            " ePooling2D)                                                     \n",
            "                                                                 \n",
            " conv2d_7 (Conv2D)           (None, 8, 8, 256)         65792     \n",
            "                                                                 \n",
            " max_pooling2d_2 (MaxPooling  (None, 4, 4, 256)        0         \n",
            " 2D)                                                             \n",
            "                                                                 \n",
            " flatten (Flatten)           (None, 4096)              0         \n",
            "                                                                 \n",
            " dense (Dense)               (None, 256)               1048832   \n",
            "                                                                 \n",
            " dropout (Dropout)           (None, 256)               0         \n",
            "                                                                 \n",
            " dense_1 (Dense)             (None, 4)                 1028      \n",
            "                                                                 \n",
            "=================================================================\n",
            "Total params: 1,865,892\n",
            "Trainable params: 1,865,892\n",
            "Non-trainable params: 0\n",
            "_________________________________________________________________\n"
          ]
        }
      ],
      "source": [
        "model = keras.Sequential([\n",
        "    layers.Conv2D(32, (3, 3), padding='same', activation='relu',   input_shape=(128,128, 3)),\n",
        "    layers.MaxPooling2D(pool_size=(2, 2)),\n",
        "    \n",
        "    layers.Conv2D(32, (3,3), padding='same', activation='relu'),\n",
        "    layers.MaxPooling2D(pool_size=(2, 2)),\n",
        "    \n",
        "        \n",
        "    layers.Conv2D(64, (3,3), padding='same', activation='relu'),\n",
        "    layers.Conv2D(256, (3,3), padding='same', activation='relu'),\n",
        "    layers.Conv2D(128, (3,3), padding='same', activation='relu'),\n",
        "    layers.AvgPool2D(2, 2),\n",
        "    layers.Conv2D(256, (2, 2), padding=\"same\", activation=\"relu\"),\n",
        "    layers.Conv2D(64, (3,3), padding='same', activation='relu'),\n",
        "    layers.AvgPool2D(2, 2),\n",
        "    \n",
        "    layers.Conv2D(256, (2, 2), padding=\"same\", activation=\"relu\"),\n",
        "    layers.MaxPooling2D(2, 2),\n",
        "    \n",
        "\n",
        "\n",
        "    layers.Flatten(),\n",
        "    layers.Dense(256,  activation='relu'),\n",
        "    layers.Dropout(0.25),\n",
        "    layers.Dense(4, activation='softmax'),\n",
        "       \n",
        "    ])\n",
        "\n",
        "model.compile(\n",
        "    optimizer = 'adam',\n",
        "    loss = 'categorical_crossentropy',\n",
        "    metrics = ['accuracy']\n",
        "    )\n",
        "model.summary()"
      ]
    },
    {
      "cell_type": "code",
      "execution_count": 22,
      "metadata": {
        "execution": {
          "iopub.execute_input": "2022-01-13T12:46:50.332504Z",
          "iopub.status.busy": "2022-01-13T12:46:50.331764Z",
          "iopub.status.idle": "2022-01-13T12:57:10.518819Z",
          "shell.execute_reply": "2022-01-13T12:57:10.518029Z",
          "shell.execute_reply.started": "2022-01-13T12:46:50.332469Z"
        },
        "id": "wirUI6vWnAyf",
        "scrolled": false,
        "colab": {
          "base_uri": "https://localhost:8080/"
        },
        "outputId": "64d8585d-59bc-49ff-8391-43bb5a74e9f8"
      },
      "outputs": [
        {
          "output_type": "stream",
          "name": "stdout",
          "text": [
            "Epoch 1/20\n",
            "75/75 [==============================] - ETA: 0s - loss: 1.0643 - accuracy: 0.4699\n",
            "Epoch 1: val_accuracy improved from -inf to 0.31597, saving model to ./cnn_model.hdf5\n",
            "75/75 [==============================] - 30s 346ms/step - loss: 1.0643 - accuracy: 0.4699 - val_loss: 3.7171 - val_accuracy: 0.3160\n",
            "Epoch 2/20\n",
            "75/75 [==============================] - ETA: 0s - loss: 0.6393 - accuracy: 0.7118\n",
            "Epoch 2: val_accuracy improved from 0.31597 to 0.32292, saving model to ./cnn_model.hdf5\n",
            "75/75 [==============================] - 19s 256ms/step - loss: 0.6393 - accuracy: 0.7118 - val_loss: 3.7749 - val_accuracy: 0.3229\n",
            "Epoch 3/20\n",
            "75/75 [==============================] - ETA: 0s - loss: 0.4439 - accuracy: 0.8205\n",
            "Epoch 3: val_accuracy did not improve from 0.32292\n",
            "75/75 [==============================] - 18s 241ms/step - loss: 0.4439 - accuracy: 0.8205 - val_loss: 3.3586 - val_accuracy: 0.2847\n",
            "Epoch 4/20\n",
            "75/75 [==============================] - ETA: 0s - loss: 0.3196 - accuracy: 0.8795\n",
            "Epoch 4: val_accuracy improved from 0.32292 to 0.34549, saving model to ./cnn_model.hdf5\n",
            "75/75 [==============================] - 19s 258ms/step - loss: 0.3196 - accuracy: 0.8795 - val_loss: 3.8820 - val_accuracy: 0.3455\n",
            "Epoch 5/20\n",
            "75/75 [==============================] - ETA: 0s - loss: 0.3031 - accuracy: 0.8909\n",
            "Epoch 5: val_accuracy improved from 0.34549 to 0.35069, saving model to ./cnn_model.hdf5\n",
            "75/75 [==============================] - 18s 241ms/step - loss: 0.3031 - accuracy: 0.8909 - val_loss: 3.4861 - val_accuracy: 0.3507\n",
            "Epoch 6/20\n",
            "75/75 [==============================] - ETA: 0s - loss: 0.2411 - accuracy: 0.9098\n",
            "Epoch 6: val_accuracy did not improve from 0.35069\n",
            "75/75 [==============================] - 18s 238ms/step - loss: 0.2411 - accuracy: 0.9098 - val_loss: 3.7033 - val_accuracy: 0.3351\n",
            "Epoch 7/20\n",
            "75/75 [==============================] - ETA: 0s - loss: 0.2477 - accuracy: 0.9052\n",
            "Epoch 7: val_accuracy did not improve from 0.35069\n",
            "75/75 [==============================] - 18s 240ms/step - loss: 0.2477 - accuracy: 0.9052 - val_loss: 3.2220 - val_accuracy: 0.3490\n",
            "Epoch 8/20\n",
            "75/75 [==============================] - ETA: 0s - loss: 0.2055 - accuracy: 0.9208\n",
            "Epoch 8: val_accuracy did not improve from 0.35069\n",
            "75/75 [==============================] - 18s 240ms/step - loss: 0.2055 - accuracy: 0.9208 - val_loss: 4.1194 - val_accuracy: 0.3316\n",
            "Epoch 9/20\n",
            "75/75 [==============================] - ETA: 0s - loss: 0.2078 - accuracy: 0.9191\n",
            "Epoch 9: val_accuracy improved from 0.35069 to 0.35417, saving model to ./cnn_model.hdf5\n",
            "75/75 [==============================] - 18s 241ms/step - loss: 0.2078 - accuracy: 0.9191 - val_loss: 3.5097 - val_accuracy: 0.3542\n",
            "Epoch 10/20\n",
            "75/75 [==============================] - ETA: 0s - loss: 0.2041 - accuracy: 0.9208\n",
            "Epoch 10: val_accuracy did not improve from 0.35417\n",
            "75/75 [==============================] - 18s 240ms/step - loss: 0.2041 - accuracy: 0.9208 - val_loss: 3.4426 - val_accuracy: 0.3333\n",
            "Epoch 11/20\n",
            "75/75 [==============================] - ETA: 0s - loss: 0.1752 - accuracy: 0.9305\n",
            "Epoch 11: val_accuracy improved from 0.35417 to 0.42188, saving model to ./cnn_model.hdf5\n",
            "75/75 [==============================] - 18s 241ms/step - loss: 0.1752 - accuracy: 0.9305 - val_loss: 3.8105 - val_accuracy: 0.4219\n",
            "Epoch 12/20\n",
            "75/75 [==============================] - ETA: 0s - loss: 0.1552 - accuracy: 0.9372\n",
            "Epoch 12: val_accuracy did not improve from 0.42188\n",
            "75/75 [==============================] - 18s 236ms/step - loss: 0.1552 - accuracy: 0.9372 - val_loss: 3.4701 - val_accuracy: 0.3351\n",
            "Epoch 13/20\n",
            "75/75 [==============================] - ETA: 0s - loss: 0.1722 - accuracy: 0.9305\n",
            "Epoch 13: val_accuracy did not improve from 0.42188\n",
            "75/75 [==============================] - 19s 257ms/step - loss: 0.1722 - accuracy: 0.9305 - val_loss: 3.7195 - val_accuracy: 0.3924\n",
            "Epoch 14/20\n",
            "75/75 [==============================] - ETA: 0s - loss: 0.1566 - accuracy: 0.9389\n",
            "Epoch 14: val_accuracy did not improve from 0.42188\n",
            "75/75 [==============================] - 18s 241ms/step - loss: 0.1566 - accuracy: 0.9389 - val_loss: 3.9363 - val_accuracy: 0.3750\n",
            "Epoch 15/20\n",
            "75/75 [==============================] - ETA: 0s - loss: 0.2075 - accuracy: 0.9208\n",
            "Epoch 15: val_accuracy did not improve from 0.42188\n",
            "75/75 [==============================] - 18s 241ms/step - loss: 0.2075 - accuracy: 0.9208 - val_loss: 2.5023 - val_accuracy: 0.3299\n",
            "Epoch 16/20\n",
            "75/75 [==============================] - ETA: 0s - loss: 0.1523 - accuracy: 0.9376\n",
            "Epoch 16: val_accuracy did not improve from 0.42188\n",
            "75/75 [==============================] - 18s 240ms/step - loss: 0.1523 - accuracy: 0.9376 - val_loss: 3.1963 - val_accuracy: 0.3403\n",
            "Epoch 17/20\n",
            "75/75 [==============================] - ETA: 0s - loss: 0.1337 - accuracy: 0.9431\n",
            "Epoch 17: val_accuracy did not improve from 0.42188\n",
            "75/75 [==============================] - 18s 238ms/step - loss: 0.1337 - accuracy: 0.9431 - val_loss: 4.4719 - val_accuracy: 0.2969\n",
            "Epoch 18/20\n",
            "75/75 [==============================] - ETA: 0s - loss: 0.1432 - accuracy: 0.9385\n",
            "Epoch 18: val_accuracy did not improve from 0.42188\n",
            "75/75 [==============================] - 18s 239ms/step - loss: 0.1432 - accuracy: 0.9385 - val_loss: 3.3893 - val_accuracy: 0.3646\n",
            "Epoch 19/20\n",
            "75/75 [==============================] - ETA: 0s - loss: 0.1340 - accuracy: 0.9435\n",
            "Epoch 19: val_accuracy did not improve from 0.42188\n",
            "75/75 [==============================] - 18s 237ms/step - loss: 0.1340 - accuracy: 0.9435 - val_loss: 3.3669 - val_accuracy: 0.3889\n",
            "Epoch 20/20\n",
            "75/75 [==============================] - ETA: 0s - loss: 0.1260 - accuracy: 0.9444\n",
            "Epoch 20: val_accuracy did not improve from 0.42188\n",
            "75/75 [==============================] - 18s 239ms/step - loss: 0.1260 - accuracy: 0.9444 - val_loss: 3.3404 - val_accuracy: 0.3819\n"
          ]
        }
      ],
      "source": [
        "# Adding Model check point Callback\n",
        "\n",
        "mc = ModelCheckpoint(\n",
        "    filepath=\"./cnn_model.hdf5\",\n",
        "    monitor= 'val_accuracy', \n",
        "    verbose= 1,\n",
        "    save_best_only= True, \n",
        "    mode = 'auto'\n",
        "    );\n",
        "\n",
        "\n",
        "\n",
        "call_back = [mc];\n",
        "# Fitting the Model\n",
        "cnn = model.fit(\n",
        "    train_data, \n",
        "    steps_per_epoch = train_data.samples//train_data.batch_size, \n",
        "    epochs = 20, \n",
        "    validation_data = val_data, \n",
        "    validation_steps = val_data.samples//val_data.batch_size,\n",
        "    callbacks = call_back\n",
        "    )"
      ]
    },
    {
      "cell_type": "code",
      "execution_count": 23,
      "metadata": {
        "execution": {
          "iopub.execute_input": "2022-01-13T12:58:22.44398Z",
          "iopub.status.busy": "2022-01-13T12:58:22.443725Z",
          "iopub.status.idle": "2022-01-13T12:58:22.905407Z",
          "shell.execute_reply": "2022-01-13T12:58:22.90467Z",
          "shell.execute_reply.started": "2022-01-13T12:58:22.44395Z"
        },
        "id": "2-qMhmHcnAyg"
      },
      "outputs": [],
      "source": [
        "# Loading the Best Fit Model \n",
        "model1 = load_model(\"cnn_model.hdf5\")"
      ]
    },
    {
      "cell_type": "code",
      "execution_count": 24,
      "metadata": {
        "execution": {
          "iopub.execute_input": "2022-01-13T12:58:25.09977Z",
          "iopub.status.busy": "2022-01-13T12:58:25.099293Z",
          "iopub.status.idle": "2022-01-13T12:58:29.445208Z",
          "shell.execute_reply": "2022-01-13T12:58:29.444462Z",
          "shell.execute_reply.started": "2022-01-13T12:58:25.099735Z"
        },
        "id": "ItTvqaXunAyg",
        "colab": {
          "base_uri": "https://localhost:8080/"
        },
        "outputId": "579c41d6-f686-40cc-8dc0-2f83791bd2d0"
      },
      "outputs": [
        {
          "output_type": "stream",
          "name": "stdout",
          "text": [
            "The accuracy of the model is = 75.96899271011353 %\n"
          ]
        }
      ],
      "source": [
        "# Checking the Accuracy of the Model \n",
        "accuracy_cnn = model.evaluate_generator(generator= test_data)[1] \n",
        "print(f\"The accuracy of the model is = {accuracy_cnn*100} %\")"
      ]
    },
    {
      "cell_type": "code",
      "execution_count": 25,
      "metadata": {
        "execution": {
          "iopub.execute_input": "2022-01-13T12:58:32.538278Z",
          "iopub.status.busy": "2022-01-13T12:58:32.538017Z",
          "iopub.status.idle": "2022-01-13T12:58:32.543698Z",
          "shell.execute_reply": "2022-01-13T12:58:32.542845Z",
          "shell.execute_reply.started": "2022-01-13T12:58:32.538247Z"
        },
        "id": "SyO7JSj1nAyg",
        "colab": {
          "base_uri": "https://localhost:8080/"
        },
        "outputId": "1bf597cc-0f86-40a1-d850-9998ca92e9f2"
      },
      "outputs": [
        {
          "output_type": "execute_result",
          "data": {
            "text/plain": [
              "dict_keys(['loss', 'accuracy', 'val_loss', 'val_accuracy'])"
            ]
          },
          "metadata": {},
          "execution_count": 25
        }
      ],
      "source": [
        "cnn.history.keys()"
      ]
    },
    {
      "cell_type": "code",
      "execution_count": 26,
      "metadata": {
        "execution": {
          "iopub.execute_input": "2022-01-13T12:58:36.293403Z",
          "iopub.status.busy": "2022-01-13T12:58:36.292603Z",
          "iopub.status.idle": "2022-01-13T12:58:36.800657Z",
          "shell.execute_reply": "2022-01-13T12:58:36.799919Z",
          "shell.execute_reply.started": "2022-01-13T12:58:36.29334Z"
        },
        "id": "EKfZVbV0nAyg",
        "colab": {
          "base_uri": "https://localhost:8080/",
          "height": 369
        },
        "outputId": "9203c545-f858-4785-a57c-d8e6f2a6d481"
      },
      "outputs": [
        {
          "output_type": "display_data",
          "data": {
            "text/plain": [
              "<Figure size 1080x360 with 2 Axes>"
            ],
            "image/png": "[encoded data removed]"
          },
          "metadata": {
            "needs_background": "light"
          }
        }
      ],
      "source": [
        "# Plot model performance\n",
        "acc = cnn.history['accuracy']\n",
        "val_acc = cnn.history['val_accuracy']\n",
        "loss = cnn.history['loss']\n",
        "val_loss = cnn.history['val_loss']\n",
        "epochs_range = range(1, len(cnn.epoch) + 1)\n",
        "\n",
        "plt.figure(figsize=(15,5))\n",
        "\n",
        "plt.subplot(1, 2, 1)\n",
        "plt.plot(epochs_range, acc, label='Train Set')\n",
        "plt.plot(epochs_range, val_acc, label='Val Set')\n",
        "plt.legend(loc=\"best\")\n",
        "plt.xlabel('Epochs')\n",
        "plt.ylabel('Accuracy')\n",
        "plt.title('Model Accuracy')\n",
        "\n",
        "plt.subplot(1, 2, 2)\n",
        "plt.plot(epochs_range, loss, label='Train Set')\n",
        "plt.plot(epochs_range, val_loss, label='Val Set')\n",
        "plt.legend(loc=\"best\")\n",
        "plt.xlabel('Epochs')\n",
        "plt.ylabel('Loss')\n",
        "plt.title('Model Loss')\n",
        "\n",
        "plt.tight_layout()\n",
        "plt.show()"
      ]
    },
    {
      "cell_type": "markdown",
      "metadata": {
        "id": "ZNO0uQZ_nAyg"
      },
      "source": [
        "## VGG16 Model"
      ]
    },
    {
      "cell_type": "code",
      "execution_count": 27,
      "metadata": {
        "execution": {
          "iopub.execute_input": "2022-01-13T12:58:42.773492Z",
          "iopub.status.busy": "2022-01-13T12:58:42.772772Z",
          "iopub.status.idle": "2022-01-13T12:58:43.452602Z",
          "shell.execute_reply": "2022-01-13T12:58:43.451757Z",
          "shell.execute_reply.started": "2022-01-13T12:58:42.77345Z"
        },
        "id": "uGNWy0OVnAyh"
      },
      "outputs": [],
      "source": [
        "base_model = VGG16(\n",
        "    weights='imagenet',\n",
        "    include_top=False, \n",
        "    input_shape=(128,128,3)\n",
        ")"
      ]
    },
    {
      "cell_type": "code",
      "execution_count": 28,
      "metadata": {
        "execution": {
          "iopub.execute_input": "2022-01-13T12:58:48.844902Z",
          "iopub.status.busy": "2022-01-13T12:58:48.844198Z",
          "iopub.status.idle": "2022-01-13T12:58:48.920324Z",
          "shell.execute_reply": "2022-01-13T12:58:48.919633Z",
          "shell.execute_reply.started": "2022-01-13T12:58:48.844864Z"
        },
        "id": "wuplvBgjnAyh",
        "colab": {
          "base_uri": "https://localhost:8080/"
        },
        "outputId": "c0878814-1a9a-40ec-d56b-cb50ba3664e9"
      },
      "outputs": [
        {
          "output_type": "stream",
          "name": "stdout",
          "text": [
            "Model: \"sequential_1\"\n",
            "_________________________________________________________________\n",
            " Layer (type)                Output Shape              Param #   \n",
            "=================================================================\n",
            " vgg16 (Functional)          (None, 4, 4, 512)         14714688  \n",
            "                                                                 \n",
            " flatten_1 (Flatten)         (None, 8192)              0         \n",
            "                                                                 \n",
            " dropout_1 (Dropout)         (None, 8192)              0         \n",
            "                                                                 \n",
            " dense_2 (Dense)             (None, 4)                 32772     \n",
            "                                                                 \n",
            "=================================================================\n",
            "Total params: 14,747,460\n",
            "Trainable params: 32,772\n",
            "Non-trainable params: 14,714,688\n",
            "_________________________________________________________________\n"
          ]
        }
      ],
      "source": [
        "NUM_CLASSES = 4\n",
        "\n",
        "vgg_model = Sequential()\n",
        "vgg_model.add(base_model)\n",
        "vgg_model.add(layers.Flatten())\n",
        "vgg_model.add(layers.Dropout(0.25))\n",
        "vgg_model.add(layers.Dense(NUM_CLASSES, activation='sigmoid'))\n",
        "\n",
        "vgg_model.layers[0].trainable = False\n",
        "\n",
        "vgg_model.compile(\n",
        "    loss='categorical_crossentropy',\n",
        "    optimizer='adam',\n",
        "    metrics=['accuracy']\n",
        ")\n",
        "\n",
        "vgg_model.summary()"
      ]
    },
    {
      "cell_type": "code",
      "execution_count": 29,
      "metadata": {
        "execution": {
          "iopub.execute_input": "2022-01-13T12:58:52.423274Z",
          "iopub.status.busy": "2022-01-13T12:58:52.42276Z",
          "iopub.status.idle": "2022-01-13T12:58:52.429051Z",
          "shell.execute_reply": "2022-01-13T12:58:52.428069Z",
          "shell.execute_reply.started": "2022-01-13T12:58:52.423238Z"
        },
        "id": "hV6DtxxFnAyh"
      },
      "outputs": [],
      "source": [
        "# Adding Model check point Callback\n",
        "\n",
        "mc = ModelCheckpoint(\n",
        "    filepath=\"./vgg_model.hdf5\",\n",
        "    monitor= 'val_accuracy', \n",
        "    verbose= 1,\n",
        "    save_best_only= True, \n",
        "    mode = 'auto'\n",
        "    );\n",
        "\n",
        "call_back = [ mc];"
      ]
    },
    {
      "cell_type": "code",
      "execution_count": 30,
      "metadata": {
        "execution": {
          "iopub.execute_input": "2022-01-13T12:58:55.69347Z",
          "iopub.status.busy": "2022-01-13T12:58:55.692895Z",
          "iopub.status.idle": "2022-01-13T13:09:44.971887Z",
          "shell.execute_reply": "2022-01-13T13:09:44.97119Z",
          "shell.execute_reply.started": "2022-01-13T12:58:55.693431Z"
        },
        "id": "rN-OKX_jnAyh",
        "scrolled": false,
        "colab": {
          "base_uri": "https://localhost:8080/"
        },
        "outputId": "efa49922-3466-4346-ad3b-a10d6284f637"
      },
      "outputs": [
        {
          "output_type": "stream",
          "name": "stdout",
          "text": [
            "Epoch 1/20\n",
            "75/75 [==============================] - ETA: 0s - loss: 0.5776 - accuracy: 0.7868\n",
            "Epoch 1: val_accuracy improved from -inf to 0.31597, saving model to ./vgg_model.hdf5\n",
            "75/75 [==============================] - 21s 257ms/step - loss: 0.5776 - accuracy: 0.7868 - val_loss: 2.0139 - val_accuracy: 0.3160\n",
            "Epoch 2/20\n",
            "75/75 [==============================] - ETA: 0s - loss: 0.2643 - accuracy: 0.9052\n",
            "Epoch 2: val_accuracy improved from 0.31597 to 0.32118, saving model to ./vgg_model.hdf5\n",
            "75/75 [==============================] - 19s 248ms/step - loss: 0.2643 - accuracy: 0.9052 - val_loss: 2.0362 - val_accuracy: 0.3212\n",
            "Epoch 3/20\n",
            "75/75 [==============================] - ETA: 0s - loss: 0.2019 - accuracy: 0.9258\n",
            "Epoch 3: val_accuracy improved from 0.32118 to 0.34028, saving model to ./vgg_model.hdf5\n",
            "75/75 [==============================] - 19s 257ms/step - loss: 0.2019 - accuracy: 0.9258 - val_loss: 1.9411 - val_accuracy: 0.3403\n",
            "Epoch 4/20\n",
            "75/75 [==============================] - ETA: 0s - loss: 0.1700 - accuracy: 0.9431\n",
            "Epoch 4: val_accuracy improved from 0.34028 to 0.37500, saving model to ./vgg_model.hdf5\n",
            "75/75 [==============================] - 19s 249ms/step - loss: 0.1700 - accuracy: 0.9431 - val_loss: 2.1483 - val_accuracy: 0.3750\n",
            "Epoch 5/20\n",
            "75/75 [==============================] - ETA: 0s - loss: 0.1578 - accuracy: 0.9494\n",
            "Epoch 5: val_accuracy did not improve from 0.37500\n",
            "75/75 [==============================] - 18s 245ms/step - loss: 0.1578 - accuracy: 0.9494 - val_loss: 2.3377 - val_accuracy: 0.3733\n",
            "Epoch 6/20\n",
            "75/75 [==============================] - ETA: 0s - loss: 0.1412 - accuracy: 0.9499\n",
            "Epoch 6: val_accuracy improved from 0.37500 to 0.38542, saving model to ./vgg_model.hdf5\n",
            "75/75 [==============================] - 19s 248ms/step - loss: 0.1412 - accuracy: 0.9499 - val_loss: 2.0529 - val_accuracy: 0.3854\n",
            "Epoch 7/20\n",
            "75/75 [==============================] - ETA: 0s - loss: 0.1450 - accuracy: 0.9452\n",
            "Epoch 7: val_accuracy improved from 0.38542 to 0.43056, saving model to ./vgg_model.hdf5\n",
            "75/75 [==============================] - 18s 246ms/step - loss: 0.1450 - accuracy: 0.9452 - val_loss: 1.7280 - val_accuracy: 0.4306\n",
            "Epoch 8/20\n",
            "75/75 [==============================] - ETA: 0s - loss: 0.1384 - accuracy: 0.9469\n",
            "Epoch 8: val_accuracy did not improve from 0.43056\n",
            "75/75 [==============================] - 19s 248ms/step - loss: 0.1384 - accuracy: 0.9469 - val_loss: 2.3500 - val_accuracy: 0.3368\n",
            "Epoch 9/20\n",
            "75/75 [==============================] - ETA: 0s - loss: 0.1318 - accuracy: 0.9507\n",
            "Epoch 9: val_accuracy did not improve from 0.43056\n",
            "75/75 [==============================] - 20s 271ms/step - loss: 0.1318 - accuracy: 0.9507 - val_loss: 2.1883 - val_accuracy: 0.3924\n",
            "Epoch 10/20\n",
            "75/75 [==============================] - ETA: 0s - loss: 0.1146 - accuracy: 0.9638\n",
            "Epoch 10: val_accuracy did not improve from 0.43056\n",
            "75/75 [==============================] - 19s 253ms/step - loss: 0.1146 - accuracy: 0.9638 - val_loss: 2.1502 - val_accuracy: 0.3854\n",
            "Epoch 11/20\n",
            "75/75 [==============================] - ETA: 0s - loss: 0.1163 - accuracy: 0.9536\n",
            "Epoch 11: val_accuracy did not improve from 0.43056\n",
            "75/75 [==============================] - 18s 247ms/step - loss: 0.1163 - accuracy: 0.9536 - val_loss: 2.2887 - val_accuracy: 0.3958\n",
            "Epoch 12/20\n",
            "75/75 [==============================] - ETA: 0s - loss: 0.0934 - accuracy: 0.9642\n",
            "Epoch 12: val_accuracy did not improve from 0.43056\n",
            "75/75 [==============================] - 19s 248ms/step - loss: 0.0934 - accuracy: 0.9642 - val_loss: 2.4994 - val_accuracy: 0.4010\n",
            "Epoch 13/20\n",
            "75/75 [==============================] - ETA: 0s - loss: 0.1035 - accuracy: 0.9587\n",
            "Epoch 13: val_accuracy did not improve from 0.43056\n",
            "75/75 [==============================] - 19s 255ms/step - loss: 0.1035 - accuracy: 0.9587 - val_loss: 2.1333 - val_accuracy: 0.3872\n",
            "Epoch 14/20\n",
            "75/75 [==============================] - ETA: 0s - loss: 0.0925 - accuracy: 0.9684\n",
            "Epoch 14: val_accuracy did not improve from 0.43056\n",
            "75/75 [==============================] - 19s 248ms/step - loss: 0.0925 - accuracy: 0.9684 - val_loss: 2.3067 - val_accuracy: 0.3941\n",
            "Epoch 15/20\n",
            "75/75 [==============================] - ETA: 0s - loss: 0.0907 - accuracy: 0.9629\n",
            "Epoch 15: val_accuracy did not improve from 0.43056\n",
            "75/75 [==============================] - 18s 245ms/step - loss: 0.0907 - accuracy: 0.9629 - val_loss: 2.5584 - val_accuracy: 0.3993\n",
            "Epoch 16/20\n",
            "75/75 [==============================] - ETA: 0s - loss: 0.0958 - accuracy: 0.9659\n",
            "Epoch 16: val_accuracy did not improve from 0.43056\n",
            "75/75 [==============================] - 19s 247ms/step - loss: 0.0958 - accuracy: 0.9659 - val_loss: 2.9445 - val_accuracy: 0.3958\n",
            "Epoch 17/20\n",
            "75/75 [==============================] - ETA: 0s - loss: 0.1025 - accuracy: 0.9591\n",
            "Epoch 17: val_accuracy did not improve from 0.43056\n",
            "75/75 [==============================] - 19s 248ms/step - loss: 0.1025 - accuracy: 0.9591 - val_loss: 2.9839 - val_accuracy: 0.3351\n",
            "Epoch 18/20\n",
            "75/75 [==============================] - ETA: 0s - loss: 0.0984 - accuracy: 0.9608\n",
            "Epoch 18: val_accuracy did not improve from 0.43056\n",
            "75/75 [==============================] - 18s 245ms/step - loss: 0.0984 - accuracy: 0.9608 - val_loss: 2.9853 - val_accuracy: 0.3802\n",
            "Epoch 19/20\n",
            "75/75 [==============================] - ETA: 0s - loss: 0.0859 - accuracy: 0.9663\n",
            "Epoch 19: val_accuracy improved from 0.43056 to 0.44097, saving model to ./vgg_model.hdf5\n",
            "75/75 [==============================] - 18s 246ms/step - loss: 0.0859 - accuracy: 0.9663 - val_loss: 2.4943 - val_accuracy: 0.4410\n",
            "Epoch 20/20\n",
            "75/75 [==============================] - ETA: 0s - loss: 0.1066 - accuracy: 0.9574\n",
            "Epoch 20: val_accuracy did not improve from 0.44097\n",
            "75/75 [==============================] - 19s 246ms/step - loss: 0.1066 - accuracy: 0.9574 - val_loss: 2.9382 - val_accuracy: 0.3559\n"
          ]
        }
      ],
      "source": [
        "# Fitting the Model\n",
        "vgg = vgg_model.fit(\n",
        "    train_data, \n",
        "    steps_per_epoch = train_data.samples//train_data.batch_size, \n",
        "    epochs = 20, \n",
        "    validation_data = val_data, \n",
        "    validation_steps = val_data.samples//val_data.batch_size,\n",
        "    callbacks = call_back \n",
        "    )"
      ]
    },
    {
      "cell_type": "code",
      "execution_count": 31,
      "metadata": {
        "execution": {
          "iopub.execute_input": "2022-01-13T13:09:49.099232Z",
          "iopub.status.busy": "2022-01-13T13:09:49.098977Z",
          "iopub.status.idle": "2022-01-13T13:09:49.343411Z",
          "shell.execute_reply": "2022-01-13T13:09:49.342652Z",
          "shell.execute_reply.started": "2022-01-13T13:09:49.099202Z"
        },
        "id": "b4uTgMGYnAyi"
      },
      "outputs": [],
      "source": [
        "# Loading the Best Fit Model \n",
        "model = load_model(\"./vgg_model.hdf5\")"
      ]
    },
    {
      "cell_type": "code",
      "execution_count": 32,
      "metadata": {
        "execution": {
          "iopub.execute_input": "2022-01-13T13:09:51.653498Z",
          "iopub.status.busy": "2022-01-13T13:09:51.653227Z",
          "iopub.status.idle": "2022-01-13T13:09:54.408967Z",
          "shell.execute_reply": "2022-01-13T13:09:54.4082Z",
          "shell.execute_reply.started": "2022-01-13T13:09:51.653468Z"
        },
        "id": "m000PmF3nAyi",
        "colab": {
          "base_uri": "https://localhost:8080/"
        },
        "outputId": "ac0b3a81-aae6-49c9-c340-5c55fe08342a"
      },
      "outputs": [
        {
          "output_type": "stream",
          "name": "stdout",
          "text": [
            "The accuracy of the model is = 84.49612259864807 %\n"
          ]
        }
      ],
      "source": [
        "# Checking the Accuracy of the Model \n",
        "accuracy_vgg = model.evaluate_generator(generator= test_data)[1] \n",
        "print(f\"The accuracy of the model is = {accuracy_vgg*100} %\")"
      ]
    },
    {
      "cell_type": "code",
      "execution_count": 33,
      "metadata": {
        "execution": {
          "iopub.execute_input": "2022-01-13T13:09:58.530792Z",
          "iopub.status.busy": "2022-01-13T13:09:58.529899Z",
          "iopub.status.idle": "2022-01-13T13:09:58.535965Z",
          "shell.execute_reply": "2022-01-13T13:09:58.535148Z",
          "shell.execute_reply.started": "2022-01-13T13:09:58.530754Z"
        },
        "id": "-xBQQ_PdnAyi",
        "colab": {
          "base_uri": "https://localhost:8080/"
        },
        "outputId": "dd3c3067-da4d-4002-92ec-ce60bd50f308"
      },
      "outputs": [
        {
          "output_type": "execute_result",
          "data": {
            "text/plain": [
              "dict_keys(['loss', 'accuracy', 'val_loss', 'val_accuracy'])"
            ]
          },
          "metadata": {},
          "execution_count": 33
        }
      ],
      "source": [
        "vgg.history.keys()"
      ]
    },
    {
      "cell_type": "code",
      "execution_count": 34,
      "metadata": {
        "execution": {
          "iopub.execute_input": "2022-01-13T13:10:02.01703Z",
          "iopub.status.busy": "2022-01-13T13:10:02.016339Z",
          "iopub.status.idle": "2022-01-13T13:10:02.422856Z",
          "shell.execute_reply": "2022-01-13T13:10:02.42218Z",
          "shell.execute_reply.started": "2022-01-13T13:10:02.016995Z"
        },
        "id": "sWsWQI8onAyi",
        "colab": {
          "base_uri": "https://localhost:8080/",
          "height": 0
        },
        "outputId": "c9f1ce44-7619-4486-f1f1-b4d210dfe811"
      },
      "outputs": [
        {
          "output_type": "display_data",
          "data": {
            "text/plain": [
              "<Figure size 1080x360 with 2 Axes>"
            ],
            "image/png": "[encoded data removed]"
          },
          "metadata": {
            "needs_background": "light"
          }
        }
      ],
      "source": [
        "# Plot model performance\n",
        "acc = vgg.history['accuracy']\n",
        "val_acc = vgg.history['val_accuracy']\n",
        "loss = vgg.history['loss']\n",
        "val_loss = vgg.history['val_loss']\n",
        "epochs_range = range(1, len(vgg.epoch) + 1)\n",
        "\n",
        "plt.figure(figsize=(15,5))\n",
        "\n",
        "plt.subplot(1, 2, 1)\n",
        "plt.plot(epochs_range, acc, label='Train Set')\n",
        "plt.plot(epochs_range, val_acc, label='Val Set')\n",
        "plt.legend(loc=\"best\")\n",
        "plt.xlabel('Epochs')\n",
        "plt.ylabel('Accuracy')\n",
        "plt.title('Model Accuracy')\n",
        "\n",
        "plt.subplot(1, 2, 2)\n",
        "plt.plot(epochs_range, loss, label='Train Set')\n",
        "plt.plot(epochs_range, val_loss, label='Val Set')\n",
        "plt.legend(loc=\"best\")\n",
        "plt.xlabel('Epochs')\n",
        "plt.ylabel('Loss')\n",
        "plt.title('Model Loss')\n",
        "\n",
        "plt.tight_layout()\n",
        "plt.show()"
      ]
    },
    {
      "cell_type": "markdown",
      "metadata": {
        "id": "iTSG4we-nAyj"
      },
      "source": [
        "## Inceptionv3 Model"
      ]
    },
    {
      "cell_type": "code",
      "execution_count": 35,
      "metadata": {
        "execution": {
          "iopub.execute_input": "2022-01-13T13:10:06.72543Z",
          "iopub.status.busy": "2022-01-13T13:10:06.725159Z",
          "iopub.status.idle": "2022-01-13T13:10:09.383221Z",
          "shell.execute_reply": "2022-01-13T13:10:09.382504Z",
          "shell.execute_reply.started": "2022-01-13T13:10:06.72538Z"
        },
        "id": "gW2U6iJPnAyj"
      },
      "outputs": [],
      "source": [
        "from tensorflow.keras.applications.inception_v3 import InceptionV3\n",
        "\n",
        "base_model = InceptionV3(input_shape = (128, 128, 3), \n",
        "                         include_top = False, \n",
        "                         weights = 'imagenet')"
      ]
    },
    {
      "cell_type": "code",
      "execution_count": 36,
      "metadata": {
        "execution": {
          "iopub.execute_input": "2022-01-13T13:10:13.575698Z",
          "iopub.status.busy": "2022-01-13T13:10:13.57525Z",
          "iopub.status.idle": "2022-01-13T13:10:13.590269Z",
          "shell.execute_reply": "2022-01-13T13:10:13.588254Z",
          "shell.execute_reply.started": "2022-01-13T13:10:13.575659Z"
        },
        "id": "uwFBGDLNnAyj"
      },
      "outputs": [],
      "source": [
        "for layer in base_model.layers:\n",
        "    layer.trainable = False"
      ]
    },
    {
      "cell_type": "code",
      "execution_count": 37,
      "metadata": {
        "execution": {
          "iopub.execute_input": "2022-01-13T13:10:16.75138Z",
          "iopub.status.busy": "2022-01-13T13:10:16.751116Z",
          "iopub.status.idle": "2022-01-13T13:10:16.803066Z",
          "shell.execute_reply": "2022-01-13T13:10:16.80241Z",
          "shell.execute_reply.started": "2022-01-13T13:10:16.751349Z"
        },
        "id": "aUYhyT1wnAyj"
      },
      "outputs": [],
      "source": [
        "x = layers.Flatten()(base_model.output)\n",
        "x = layers.Dense(1024, activation='relu')(x)\n",
        "x = layers.Dropout(0.2)(x)\n",
        "\n",
        "# Add a final sigmoid layer with 4 node for classification output\n",
        "x = layers.Dense(4, activation='sigmoid')(x)\n",
        "\n",
        "model_incep = tf.keras.models.Model(base_model.input, x)\n",
        "\n",
        "model_incep.compile(optimizer = tensorflow.keras.optimizers.RMSprop(learning_rate=0.0001), \n",
        "                    loss = 'categorical_crossentropy', \n",
        "                    metrics = ['accuracy'])"
      ]
    },
    {
      "cell_type": "code",
      "execution_count": 38,
      "metadata": {
        "execution": {
          "iopub.execute_input": "2022-01-13T13:10:19.930105Z",
          "iopub.status.busy": "2022-01-13T13:10:19.929714Z",
          "iopub.status.idle": "2022-01-13T13:10:19.934768Z",
          "shell.execute_reply": "2022-01-13T13:10:19.934098Z",
          "shell.execute_reply.started": "2022-01-13T13:10:19.93007Z"
        },
        "id": "0Co3DnoInAyj"
      },
      "outputs": [],
      "source": [
        "# Adding Model check point Callback\n",
        "\n",
        "mc = ModelCheckpoint(\n",
        "    filepath=\"./incep_model.hdf5\",\n",
        "    monitor= 'val_accuracy', \n",
        "    verbose= 1,\n",
        "    save_best_only= True, \n",
        "    mode = 'auto'\n",
        "    );\n",
        "\n",
        "call_back = [mc];"
      ]
    },
    {
      "cell_type": "code",
      "execution_count": 39,
      "metadata": {
        "execution": {
          "iopub.execute_input": "2022-01-13T13:10:23.133479Z",
          "iopub.status.busy": "2022-01-13T13:10:23.133173Z",
          "iopub.status.idle": "2022-01-13T13:24:11.782076Z",
          "shell.execute_reply": "2022-01-13T13:24:11.781267Z",
          "shell.execute_reply.started": "2022-01-13T13:10:23.133429Z"
        },
        "id": "B_WQV9ITnAyk",
        "colab": {
          "base_uri": "https://localhost:8080/"
        },
        "outputId": "6be5212f-2f19-43a0-d684-04d07063b31d"
      },
      "outputs": [
        {
          "output_type": "stream",
          "name": "stdout",
          "text": [
            "Epoch 1/20\n",
            "75/75 [==============================] - ETA: 0s - loss: 1.8064 - accuracy: 0.7008\n",
            "Epoch 1: val_accuracy improved from -inf to 0.31250, saving model to ./incep_model.hdf5\n",
            "75/75 [==============================] - 25s 276ms/step - loss: 1.8064 - accuracy: 0.7008 - val_loss: 3.3357 - val_accuracy: 0.3125\n",
            "Epoch 2/20\n",
            "75/75 [==============================] - ETA: 0s - loss: 0.5243 - accuracy: 0.8310\n",
            "Epoch 2: val_accuracy improved from 0.31250 to 0.34201, saving model to ./incep_model.hdf5\n",
            "75/75 [==============================] - 19s 251ms/step - loss: 0.5243 - accuracy: 0.8310 - val_loss: 3.6456 - val_accuracy: 0.3420\n",
            "Epoch 3/20\n",
            "75/75 [==============================] - ETA: 0s - loss: 0.4271 - accuracy: 0.8656\n",
            "Epoch 3: val_accuracy did not improve from 0.34201\n",
            "75/75 [==============================] - 19s 260ms/step - loss: 0.4271 - accuracy: 0.8656 - val_loss: 4.4140 - val_accuracy: 0.3229\n",
            "Epoch 4/20\n",
            "75/75 [==============================] - ETA: 0s - loss: 0.3557 - accuracy: 0.8845\n",
            "Epoch 4: val_accuracy did not improve from 0.34201\n",
            "75/75 [==============================] - 19s 249ms/step - loss: 0.3557 - accuracy: 0.8845 - val_loss: 3.2703 - val_accuracy: 0.3351\n",
            "Epoch 5/20\n",
            "75/75 [==============================] - ETA: 0s - loss: 0.3105 - accuracy: 0.8955\n",
            "Epoch 5: val_accuracy did not improve from 0.34201\n",
            "75/75 [==============================] - 18s 245ms/step - loss: 0.3105 - accuracy: 0.8955 - val_loss: 4.4824 - val_accuracy: 0.3368\n",
            "Epoch 6/20\n",
            "75/75 [==============================] - ETA: 0s - loss: 0.2811 - accuracy: 0.9090\n",
            "Epoch 6: val_accuracy did not improve from 0.34201\n",
            "75/75 [==============================] - 18s 243ms/step - loss: 0.2811 - accuracy: 0.9090 - val_loss: 4.5351 - val_accuracy: 0.3385\n",
            "Epoch 7/20\n",
            "75/75 [==============================] - ETA: 0s - loss: 0.3128 - accuracy: 0.9027\n",
            "Epoch 7: val_accuracy improved from 0.34201 to 0.38715, saving model to ./incep_model.hdf5\n",
            "75/75 [==============================] - 19s 255ms/step - loss: 0.3128 - accuracy: 0.9027 - val_loss: 4.0168 - val_accuracy: 0.3872\n",
            "Epoch 8/20\n",
            "75/75 [==============================] - ETA: 0s - loss: 0.2527 - accuracy: 0.9140\n",
            "Epoch 8: val_accuracy did not improve from 0.38715\n",
            "75/75 [==============================] - 19s 247ms/step - loss: 0.2527 - accuracy: 0.9140 - val_loss: 3.0231 - val_accuracy: 0.3611\n",
            "Epoch 9/20\n",
            "75/75 [==============================] - ETA: 0s - loss: 0.2295 - accuracy: 0.9212\n",
            "Epoch 9: val_accuracy did not improve from 0.38715\n",
            "75/75 [==============================] - 18s 242ms/step - loss: 0.2295 - accuracy: 0.9212 - val_loss: 3.0027 - val_accuracy: 0.3472\n",
            "Epoch 10/20\n",
            "75/75 [==============================] - ETA: 0s - loss: 0.2344 - accuracy: 0.9216\n",
            "Epoch 10: val_accuracy did not improve from 0.38715\n",
            "75/75 [==============================] - 18s 243ms/step - loss: 0.2344 - accuracy: 0.9216 - val_loss: 5.4930 - val_accuracy: 0.3420\n",
            "Epoch 11/20\n",
            "75/75 [==============================] - ETA: 0s - loss: 0.2194 - accuracy: 0.9241\n",
            "Epoch 11: val_accuracy did not improve from 0.38715\n",
            "75/75 [==============================] - 18s 245ms/step - loss: 0.2194 - accuracy: 0.9241 - val_loss: 3.3638 - val_accuracy: 0.3819\n",
            "Epoch 12/20\n",
            "75/75 [==============================] - ETA: 0s - loss: 0.2410 - accuracy: 0.9254\n",
            "Epoch 12: val_accuracy did not improve from 0.38715\n",
            "75/75 [==============================] - 18s 243ms/step - loss: 0.2410 - accuracy: 0.9254 - val_loss: 3.9836 - val_accuracy: 0.3438\n",
            "Epoch 13/20\n",
            "75/75 [==============================] - ETA: 0s - loss: 0.2097 - accuracy: 0.9338\n",
            "Epoch 13: val_accuracy did not improve from 0.38715\n",
            "75/75 [==============================] - 18s 244ms/step - loss: 0.2097 - accuracy: 0.9338 - val_loss: 3.9896 - val_accuracy: 0.3611\n",
            "Epoch 14/20\n",
            "75/75 [==============================] - ETA: 0s - loss: 0.2252 - accuracy: 0.9300\n",
            "Epoch 14: val_accuracy did not improve from 0.38715\n",
            "75/75 [==============================] - 19s 260ms/step - loss: 0.2252 - accuracy: 0.9300 - val_loss: 5.1267 - val_accuracy: 0.3681\n",
            "Epoch 15/20\n",
            "75/75 [==============================] - ETA: 0s - loss: 0.2147 - accuracy: 0.9309\n",
            "Epoch 15: val_accuracy did not improve from 0.38715\n",
            "75/75 [==============================] - 18s 241ms/step - loss: 0.2147 - accuracy: 0.9309 - val_loss: 5.6107 - val_accuracy: 0.3455\n",
            "Epoch 16/20\n",
            "75/75 [==============================] - ETA: 0s - loss: 0.2092 - accuracy: 0.9313\n",
            "Epoch 16: val_accuracy did not improve from 0.38715\n",
            "75/75 [==============================] - 18s 246ms/step - loss: 0.2092 - accuracy: 0.9313 - val_loss: 4.6906 - val_accuracy: 0.3681\n",
            "Epoch 17/20\n",
            "75/75 [==============================] - ETA: 0s - loss: 0.1766 - accuracy: 0.9376\n",
            "Epoch 17: val_accuracy did not improve from 0.38715\n",
            "75/75 [==============================] - 18s 245ms/step - loss: 0.1766 - accuracy: 0.9376 - val_loss: 5.2323 - val_accuracy: 0.3663\n",
            "Epoch 18/20\n",
            "75/75 [==============================] - ETA: 0s - loss: 0.1811 - accuracy: 0.9402\n",
            "Epoch 18: val_accuracy did not improve from 0.38715\n",
            "75/75 [==============================] - 18s 241ms/step - loss: 0.1811 - accuracy: 0.9402 - val_loss: 4.8120 - val_accuracy: 0.3646\n",
            "Epoch 19/20\n",
            "75/75 [==============================] - ETA: 0s - loss: 0.1621 - accuracy: 0.9494\n",
            "Epoch 19: val_accuracy did not improve from 0.38715\n",
            "75/75 [==============================] - 18s 243ms/step - loss: 0.1621 - accuracy: 0.9494 - val_loss: 4.7267 - val_accuracy: 0.3681\n",
            "Epoch 20/20\n",
            "75/75 [==============================] - ETA: 0s - loss: 0.1634 - accuracy: 0.9452\n",
            "Epoch 20: val_accuracy did not improve from 0.38715\n",
            "75/75 [==============================] - 18s 245ms/step - loss: 0.1634 - accuracy: 0.9452 - val_loss: 5.3571 - val_accuracy: 0.3628\n"
          ]
        }
      ],
      "source": [
        "# Fitting the Model\n",
        "incep = model_incep.fit(\n",
        "    train_data, \n",
        "    steps_per_epoch = train_data.samples//train_data.batch_size, \n",
        "    epochs = 20, \n",
        "    validation_data = val_data, \n",
        "    validation_steps = val_data.samples//val_data.batch_size,\n",
        "    callbacks = call_back \n",
        "    )"
      ]
    },
    {
      "cell_type": "code",
      "execution_count": 40,
      "metadata": {
        "execution": {
          "iopub.execute_input": "2022-01-13T13:24:17.2511Z",
          "iopub.status.busy": "2022-01-13T13:24:17.250581Z",
          "iopub.status.idle": "2022-01-13T13:24:22.857224Z",
          "shell.execute_reply": "2022-01-13T13:24:22.856448Z",
          "shell.execute_reply.started": "2022-01-13T13:24:17.251065Z"
        },
        "id": "ELEYvSENnAyk"
      },
      "outputs": [],
      "source": [
        "# Loading the Best Fit Model \n",
        "model = load_model(\"./incep_model.hdf5\")"
      ]
    },
    {
      "cell_type": "code",
      "execution_count": 41,
      "metadata": {
        "execution": {
          "iopub.execute_input": "2022-01-13T13:24:24.986244Z",
          "iopub.status.busy": "2022-01-13T13:24:24.985972Z",
          "iopub.status.idle": "2022-01-13T13:24:28.887867Z",
          "shell.execute_reply": "2022-01-13T13:24:28.887075Z",
          "shell.execute_reply.started": "2022-01-13T13:24:24.986214Z"
        },
        "id": "5feEkEMHnAyk",
        "colab": {
          "base_uri": "https://localhost:8080/"
        },
        "outputId": "4f7bb754-c40d-42bf-9d5b-6a7fbc6ce157"
      },
      "outputs": [
        {
          "output_type": "stream",
          "name": "stdout",
          "text": [
            "The accuracy of the model is = 65.89147448539734 %\n"
          ]
        }
      ],
      "source": [
        "# Checking the Accuracy of the Model \n",
        "accuracy_incep = model.evaluate_generator(generator= test_data)[1] \n",
        "print(f\"The accuracy of the model is = {accuracy_incep*100} %\")"
      ]
    },
    {
      "cell_type": "code",
      "execution_count": 42,
      "metadata": {
        "execution": {
          "iopub.execute_input": "2022-01-13T13:24:32.77629Z",
          "iopub.status.busy": "2022-01-13T13:24:32.776016Z",
          "iopub.status.idle": "2022-01-13T13:24:32.782108Z",
          "shell.execute_reply": "2022-01-13T13:24:32.78138Z",
          "shell.execute_reply.started": "2022-01-13T13:24:32.776259Z"
        },
        "id": "-3Z-h8eXnAyl",
        "colab": {
          "base_uri": "https://localhost:8080/"
        },
        "outputId": "0b9cbeab-a6d0-4fbe-ad47-1dd2e21c6fb4"
      },
      "outputs": [
        {
          "output_type": "execute_result",
          "data": {
            "text/plain": [
              "dict_keys(['loss', 'accuracy', 'val_loss', 'val_accuracy'])"
            ]
          },
          "metadata": {},
          "execution_count": 42
        }
      ],
      "source": [
        "incep.history.keys()"
      ]
    },
    {
      "cell_type": "code",
      "execution_count": 43,
      "metadata": {
        "execution": {
          "iopub.execute_input": "2022-01-13T13:24:36.133975Z",
          "iopub.status.busy": "2022-01-13T13:24:36.133384Z",
          "iopub.status.idle": "2022-01-13T13:24:36.549887Z",
          "shell.execute_reply": "2022-01-13T13:24:36.549161Z",
          "shell.execute_reply.started": "2022-01-13T13:24:36.133938Z"
        },
        "id": "lL1F8QIJnAyl",
        "colab": {
          "base_uri": "https://localhost:8080/",
          "height": 0
        },
        "outputId": "4f2a5105-57be-4a22-9b50-53e0f057cad4"
      },
      "outputs": [
        {
          "output_type": "display_data",
          "data": {
            "text/plain": [
              "<Figure size 1080x360 with 2 Axes>"
            ],
            "image/png": "[encoded data removed]"
          },
          "metadata": {
            "needs_background": "light"
          }
        }
      ],
      "source": [
        "# Plot model performance\n",
        "acc = incep.history['accuracy']\n",
        "val_acc = incep.history['val_accuracy']\n",
        "loss = incep.history['loss']\n",
        "val_loss = incep.history['val_loss']\n",
        "epochs_range = range(1, len(incep.epoch) + 1)\n",
        "\n",
        "plt.figure(figsize=(15,5))\n",
        "\n",
        "plt.subplot(1, 2, 1)\n",
        "plt.plot(epochs_range, acc, label='Train Set')\n",
        "plt.plot(epochs_range, val_acc, label='Val Set')\n",
        "plt.legend(loc=\"best\")\n",
        "plt.xlabel('Epochs')\n",
        "plt.ylabel('Accuracy')\n",
        "plt.title('Model Accuracy')\n",
        "\n",
        "plt.subplot(1, 2, 2)\n",
        "plt.plot(epochs_range, loss, label='Train Set')\n",
        "plt.plot(epochs_range, val_loss, label='Val Set')\n",
        "plt.legend(loc=\"best\")\n",
        "plt.xlabel('Epochs')\n",
        "plt.ylabel('Loss')\n",
        "plt.title('Model Loss')\n",
        "\n",
        "plt.tight_layout()\n",
        "plt.show()"
      ]
    },
    {
      "cell_type": "markdown",
      "metadata": {
        "id": "byxZOg3dnAyl"
      },
      "source": [
        "## ResNet50 Model"
      ]
    },
    {
      "cell_type": "code",
      "execution_count": 44,
      "metadata": {
        "execution": {
          "iopub.execute_input": "2022-01-13T13:24:40.178107Z",
          "iopub.status.busy": "2022-01-13T13:24:40.17785Z",
          "iopub.status.idle": "2022-01-13T13:24:42.249957Z",
          "shell.execute_reply": "2022-01-13T13:24:42.249082Z",
          "shell.execute_reply.started": "2022-01-13T13:24:40.178079Z"
        },
        "id": "Xy7qibirnAyl"
      },
      "outputs": [],
      "source": [
        "from tensorflow.keras.applications import ResNet50\n",
        "\n",
        "base_model = ResNet50(input_shape=(128, 128,3),\n",
        "                      include_top=False, weights=\"imagenet\", \n",
        "                      pooling='max')"
      ]
    },
    {
      "cell_type": "code",
      "execution_count": 45,
      "metadata": {
        "execution": {
          "iopub.execute_input": "2022-01-13T13:24:45.442754Z",
          "iopub.status.busy": "2022-01-13T13:24:45.442151Z",
          "iopub.status.idle": "2022-01-13T13:24:45.451664Z",
          "shell.execute_reply": "2022-01-13T13:24:45.451031Z",
          "shell.execute_reply.started": "2022-01-13T13:24:45.442713Z"
        },
        "id": "3yBDLJqUnAyl"
      },
      "outputs": [],
      "source": [
        "for layer in base_model.layers:\n",
        "    layer.trainable = False"
      ]
    },
    {
      "cell_type": "code",
      "execution_count": 46,
      "metadata": {
        "execution": {
          "iopub.execute_input": "2022-01-13T13:24:48.648073Z",
          "iopub.status.busy": "2022-01-13T13:24:48.647526Z",
          "iopub.status.idle": "2022-01-13T13:24:49.019488Z",
          "shell.execute_reply": "2022-01-13T13:24:49.018787Z",
          "shell.execute_reply.started": "2022-01-13T13:24:48.648034Z"
        },
        "id": "Z-T6v-mOnAyl"
      },
      "outputs": [],
      "source": [
        "model_resnet = Sequential()\n",
        "model_resnet.add(base_model)\n",
        "model_resnet.add(Dense(4, activation='sigmoid'))"
      ]
    },
    {
      "cell_type": "code",
      "execution_count": 47,
      "metadata": {
        "execution": {
          "iopub.execute_input": "2022-01-13T13:24:51.80697Z",
          "iopub.status.busy": "2022-01-13T13:24:51.806697Z",
          "iopub.status.idle": "2022-01-13T13:24:51.822331Z",
          "shell.execute_reply": "2022-01-13T13:24:51.82169Z",
          "shell.execute_reply.started": "2022-01-13T13:24:51.80694Z"
        },
        "id": "R3ZHR_2WnAyl"
      },
      "outputs": [],
      "source": [
        "model_resnet.compile(optimizer = tf.keras.optimizers.SGD(learning_rate=0.0001), \n",
        "                     loss = 'categorical_crossentropy', \n",
        "                     metrics = ['accuracy'])"
      ]
    },
    {
      "cell_type": "code",
      "execution_count": 48,
      "metadata": {
        "execution": {
          "iopub.execute_input": "2022-01-13T13:24:53.934973Z",
          "iopub.status.busy": "2022-01-13T13:24:53.934269Z",
          "iopub.status.idle": "2022-01-13T13:24:53.939536Z",
          "shell.execute_reply": "2022-01-13T13:24:53.938658Z",
          "shell.execute_reply.started": "2022-01-13T13:24:53.934934Z"
        },
        "id": "Y_e_i18NnAym"
      },
      "outputs": [],
      "source": [
        "# Adding Model check point Callback\n",
        "\n",
        "mc = ModelCheckpoint(\n",
        "    filepath=\"./resnet_model.hdf5\",\n",
        "    monitor= 'val_accuracy', \n",
        "    verbose= 1,\n",
        "    save_best_only= True, \n",
        "    mode = 'auto'\n",
        "    );\n",
        "\n",
        "call_back = [mc];"
      ]
    },
    {
      "cell_type": "code",
      "execution_count": 49,
      "metadata": {
        "execution": {
          "iopub.execute_input": "2022-01-13T13:24:56.782727Z",
          "iopub.status.busy": "2022-01-13T13:24:56.782137Z",
          "iopub.status.idle": "2022-01-13T13:36:22.910993Z",
          "shell.execute_reply": "2022-01-13T13:36:22.909445Z",
          "shell.execute_reply.started": "2022-01-13T13:24:56.782687Z"
        },
        "id": "pdQ59ZomnAym",
        "colab": {
          "base_uri": "https://localhost:8080/"
        },
        "outputId": "550fc2ec-24f7-4be4-b256-cc639d3042eb"
      },
      "outputs": [
        {
          "output_type": "stream",
          "name": "stdout",
          "text": [
            "Epoch 1/20\n",
            "75/75 [==============================] - ETA: 0s - loss: 1.7092 - accuracy: 0.2899\n",
            "Epoch 1: val_accuracy improved from -inf to 0.28819, saving model to ./resnet_model.hdf5\n",
            "75/75 [==============================] - 23s 265ms/step - loss: 1.7092 - accuracy: 0.2899 - val_loss: 1.4317 - val_accuracy: 0.2882\n",
            "Epoch 2/20\n",
            "75/75 [==============================] - ETA: 0s - loss: 1.3515 - accuracy: 0.3430\n",
            "Epoch 2: val_accuracy did not improve from 0.28819\n",
            "75/75 [==============================] - 19s 247ms/step - loss: 1.3515 - accuracy: 0.3430 - val_loss: 1.3943 - val_accuracy: 0.2865\n",
            "Epoch 3/20\n",
            "75/75 [==============================] - ETA: 0s - loss: 1.3266 - accuracy: 0.3574\n",
            "Epoch 3: val_accuracy improved from 0.28819 to 0.28993, saving model to ./resnet_model.hdf5\n",
            "75/75 [==============================] - 19s 253ms/step - loss: 1.3266 - accuracy: 0.3574 - val_loss: 1.4001 - val_accuracy: 0.2899\n",
            "Epoch 4/20\n",
            "75/75 [==============================] - ETA: 0s - loss: 1.2998 - accuracy: 0.3923\n",
            "Epoch 4: val_accuracy improved from 0.28993 to 0.29340, saving model to ./resnet_model.hdf5\n",
            "75/75 [==============================] - 19s 250ms/step - loss: 1.2998 - accuracy: 0.3923 - val_loss: 1.3980 - val_accuracy: 0.2934\n",
            "Epoch 5/20\n",
            "75/75 [==============================] - ETA: 0s - loss: 1.2917 - accuracy: 0.4033\n",
            "Epoch 5: val_accuracy did not improve from 0.29340\n",
            "75/75 [==============================] - 20s 261ms/step - loss: 1.2917 - accuracy: 0.4033 - val_loss: 1.4113 - val_accuracy: 0.2934\n",
            "Epoch 6/20\n",
            "75/75 [==============================] - ETA: 0s - loss: 1.2752 - accuracy: 0.4244\n",
            "Epoch 6: val_accuracy improved from 0.29340 to 0.31076, saving model to ./resnet_model.hdf5\n",
            "75/75 [==============================] - 19s 250ms/step - loss: 1.2752 - accuracy: 0.4244 - val_loss: 1.3968 - val_accuracy: 0.3108\n",
            "Epoch 7/20\n",
            "75/75 [==============================] - ETA: 0s - loss: 1.2660 - accuracy: 0.4298\n",
            "Epoch 7: val_accuracy did not improve from 0.31076\n",
            "75/75 [==============================] - 19s 247ms/step - loss: 1.2660 - accuracy: 0.4298 - val_loss: 1.3986 - val_accuracy: 0.2986\n",
            "Epoch 8/20\n",
            "75/75 [==============================] - ETA: 0s - loss: 1.2421 - accuracy: 0.4530\n",
            "Epoch 8: val_accuracy did not improve from 0.31076\n",
            "75/75 [==============================] - 18s 246ms/step - loss: 1.2421 - accuracy: 0.4530 - val_loss: 1.3978 - val_accuracy: 0.3021\n",
            "Epoch 9/20\n",
            "75/75 [==============================] - ETA: 0s - loss: 1.2295 - accuracy: 0.4526\n",
            "Epoch 9: val_accuracy did not improve from 0.31076\n",
            "75/75 [==============================] - 18s 244ms/step - loss: 1.2295 - accuracy: 0.4526 - val_loss: 1.4183 - val_accuracy: 0.2917\n",
            "Epoch 10/20\n",
            "75/75 [==============================] - ETA: 0s - loss: 1.2181 - accuracy: 0.4703\n",
            "Epoch 10: val_accuracy did not improve from 0.31076\n",
            "75/75 [==============================] - 19s 247ms/step - loss: 1.2181 - accuracy: 0.4703 - val_loss: 1.4217 - val_accuracy: 0.2951\n",
            "Epoch 11/20\n",
            "75/75 [==============================] - ETA: 0s - loss: 1.2052 - accuracy: 0.4909\n",
            "Epoch 11: val_accuracy did not improve from 0.31076\n",
            "75/75 [==============================] - 18s 243ms/step - loss: 1.2052 - accuracy: 0.4909 - val_loss: 1.4273 - val_accuracy: 0.2882\n",
            "Epoch 12/20\n",
            "75/75 [==============================] - ETA: 0s - loss: 1.2016 - accuracy: 0.4699\n",
            "Epoch 12: val_accuracy did not improve from 0.31076\n",
            "75/75 [==============================] - 18s 243ms/step - loss: 1.2016 - accuracy: 0.4699 - val_loss: 1.4369 - val_accuracy: 0.2812\n",
            "Epoch 13/20\n",
            "75/75 [==============================] - ETA: 0s - loss: 1.1903 - accuracy: 0.4741\n",
            "Epoch 13: val_accuracy did not improve from 0.31076\n",
            "75/75 [==============================] - 18s 246ms/step - loss: 1.1903 - accuracy: 0.4741 - val_loss: 1.4307 - val_accuracy: 0.2760\n",
            "Epoch 14/20\n",
            "75/75 [==============================] - ETA: 0s - loss: 1.1832 - accuracy: 0.4783\n",
            "Epoch 14: val_accuracy did not improve from 0.31076\n",
            "75/75 [==============================] - 18s 243ms/step - loss: 1.1832 - accuracy: 0.4783 - val_loss: 1.4328 - val_accuracy: 0.3003\n",
            "Epoch 15/20\n",
            "75/75 [==============================] - ETA: 0s - loss: 1.1684 - accuracy: 0.4935\n",
            "Epoch 15: val_accuracy did not improve from 0.31076\n",
            "75/75 [==============================] - 18s 244ms/step - loss: 1.1684 - accuracy: 0.4935 - val_loss: 1.4373 - val_accuracy: 0.3003\n",
            "Epoch 16/20\n",
            "75/75 [==============================] - ETA: 0s - loss: 1.1667 - accuracy: 0.4804\n",
            "Epoch 16: val_accuracy did not improve from 0.31076\n",
            "75/75 [==============================] - 20s 260ms/step - loss: 1.1667 - accuracy: 0.4804 - val_loss: 1.4538 - val_accuracy: 0.2934\n",
            "Epoch 17/20\n",
            "75/75 [==============================] - ETA: 0s - loss: 1.1669 - accuracy: 0.4930\n",
            "Epoch 17: val_accuracy did not improve from 0.31076\n",
            "75/75 [==============================] - 18s 246ms/step - loss: 1.1669 - accuracy: 0.4930 - val_loss: 1.4462 - val_accuracy: 0.3021\n",
            "Epoch 18/20\n",
            "75/75 [==============================] - ETA: 0s - loss: 1.1548 - accuracy: 0.4838\n",
            "Epoch 18: val_accuracy did not improve from 0.31076\n",
            "75/75 [==============================] - 18s 243ms/step - loss: 1.1548 - accuracy: 0.4838 - val_loss: 1.4455 - val_accuracy: 0.3073\n",
            "Epoch 19/20\n",
            "75/75 [==============================] - ETA: 0s - loss: 1.1484 - accuracy: 0.4842\n",
            "Epoch 19: val_accuracy did not improve from 0.31076\n",
            "75/75 [==============================] - 18s 246ms/step - loss: 1.1484 - accuracy: 0.4842 - val_loss: 1.4615 - val_accuracy: 0.2865\n",
            "Epoch 20/20\n",
            "75/75 [==============================] - ETA: 0s - loss: 1.1361 - accuracy: 0.5057\n",
            "Epoch 20: val_accuracy did not improve from 0.31076\n",
            "75/75 [==============================] - 18s 242ms/step - loss: 1.1361 - accuracy: 0.5057 - val_loss: 1.4635 - val_accuracy: 0.2986\n"
          ]
        }
      ],
      "source": [
        "# Fitting the Model\n",
        "resnet = model_resnet.fit(\n",
        "    train_data, \n",
        "    steps_per_epoch = train_data.samples//train_data.batch_size, \n",
        "    epochs = 20, \n",
        "    validation_data = val_data, \n",
        "    validation_steps = val_data.samples//val_data.batch_size,\n",
        "    callbacks = call_back \n",
        "    )"
      ]
    },
    {
      "cell_type": "code",
      "execution_count": 50,
      "metadata": {
        "execution": {
          "iopub.execute_input": "2022-01-13T13:37:20.436107Z",
          "iopub.status.busy": "2022-01-13T13:37:20.435384Z",
          "iopub.status.idle": "2022-01-13T13:37:25.661787Z",
          "shell.execute_reply": "2022-01-13T13:37:25.66093Z",
          "shell.execute_reply.started": "2022-01-13T13:37:20.436072Z"
        },
        "id": "KUP7duiunAym"
      },
      "outputs": [],
      "source": [
        "# Loading the Best Fit Model \n",
        "model = load_model(\"./resnet_model.hdf5\")"
      ]
    },
    {
      "cell_type": "code",
      "execution_count": 51,
      "metadata": {
        "execution": {
          "iopub.execute_input": "2022-01-13T13:37:29.576161Z",
          "iopub.status.busy": "2022-01-13T13:37:29.575894Z",
          "iopub.status.idle": "2022-01-13T13:37:33.24883Z",
          "shell.execute_reply": "2022-01-13T13:37:33.248059Z",
          "shell.execute_reply.started": "2022-01-13T13:37:29.57613Z"
        },
        "id": "_DuWEX2_nAym",
        "colab": {
          "base_uri": "https://localhost:8080/"
        },
        "outputId": "2b8bdd0f-5428-4f8e-e357-3f9da0119c53"
      },
      "outputs": [
        {
          "output_type": "stream",
          "name": "stdout",
          "text": [
            "The accuracy of the model is = 22.480620443820953 %\n"
          ]
        }
      ],
      "source": [
        "# Checking the Accuracy of the Model \n",
        "accuracy_resnet = model.evaluate_generator(generator= test_data)[1] \n",
        "print(f\"The accuracy of the model is = {accuracy_resnet*100} %\")"
      ]
    },
    {
      "cell_type": "code",
      "execution_count": 52,
      "metadata": {
        "execution": {
          "iopub.execute_input": "2022-01-13T13:37:42.69543Z",
          "iopub.status.busy": "2022-01-13T13:37:42.694613Z",
          "iopub.status.idle": "2022-01-13T13:37:42.701221Z",
          "shell.execute_reply": "2022-01-13T13:37:42.700451Z",
          "shell.execute_reply.started": "2022-01-13T13:37:42.695367Z"
        },
        "id": "7V3jx6dMnAyn",
        "colab": {
          "base_uri": "https://localhost:8080/"
        },
        "outputId": "3fcc3ed9-4f0d-4453-df14-e9ef703a4947"
      },
      "outputs": [
        {
          "output_type": "execute_result",
          "data": {
            "text/plain": [
              "dict_keys(['loss', 'accuracy', 'val_loss', 'val_accuracy'])"
            ]
          },
          "metadata": {},
          "execution_count": 52
        }
      ],
      "source": [
        "resnet.history.keys()"
      ]
    },
    {
      "cell_type": "code",
      "execution_count": 53,
      "metadata": {
        "execution": {
          "iopub.execute_input": "2022-01-13T13:37:49.944556Z",
          "iopub.status.busy": "2022-01-13T13:37:49.94392Z",
          "iopub.status.idle": "2022-01-13T13:37:50.3566Z",
          "shell.execute_reply": "2022-01-13T13:37:50.355903Z",
          "shell.execute_reply.started": "2022-01-13T13:37:49.944508Z"
        },
        "id": "7tJf4hMJnAyn",
        "colab": {
          "base_uri": "https://localhost:8080/",
          "height": 0
        },
        "outputId": "c2f4c693-4592-46c1-eff3-710d8cd197ed"
      },
      "outputs": [
        {
          "output_type": "display_data",
          "data": {
            "text/plain": [
              "<Figure size 1080x360 with 2 Axes>"
            ],
            "image/png": "[encoded data removed]"
          },
          "metadata": {
            "needs_background": "light"
          }
        }
      ],
      "source": [
        "# Plot model performance\n",
        "acc = resnet.history['accuracy']\n",
        "val_acc = resnet.history['val_accuracy']\n",
        "loss = resnet.history['loss']\n",
        "val_loss = resnet.history['val_loss']\n",
        "epochs_range = range(1, len(resnet.epoch) + 1)\n",
        "\n",
        "plt.figure(figsize=(15,5))\n",
        "\n",
        "plt.subplot(1, 2, 1)\n",
        "plt.plot(epochs_range, acc, label='Train Set')\n",
        "plt.plot(epochs_range, val_acc, label='Val Set')\n",
        "plt.legend(loc=\"best\")\n",
        "plt.xlabel('Epochs')\n",
        "plt.ylabel('Accuracy')\n",
        "plt.title('Model Accuracy')\n",
        "\n",
        "plt.subplot(1, 2, 2)\n",
        "plt.plot(epochs_range, loss, label='Train Set')\n",
        "plt.plot(epochs_range, val_loss, label='Val Set')\n",
        "plt.legend(loc=\"best\")\n",
        "plt.xlabel('Epochs')\n",
        "plt.ylabel('Loss')\n",
        "plt.title('Model Loss')\n",
        "\n",
        "plt.tight_layout()\n",
        "plt.show()"
      ]
    },
    {
      "cell_type": "markdown",
      "metadata": {
        "id": "9NDYrKeWnAyn"
      },
      "source": [
        "## Comparison"
      ]
    },
    {
      "cell_type": "code",
      "execution_count": 54,
      "metadata": {
        "execution": {
          "iopub.execute_input": "2022-01-13T13:37:54.56006Z",
          "iopub.status.busy": "2022-01-13T13:37:54.559805Z",
          "iopub.status.idle": "2022-01-13T13:37:54.755982Z",
          "shell.execute_reply": "2022-01-13T13:37:54.755227Z",
          "shell.execute_reply.started": "2022-01-13T13:37:54.560031Z"
        },
        "id": "UOs2_jfvnAyn",
        "colab": {
          "base_uri": "https://localhost:8080/",
          "height": 334
        },
        "outputId": "84b691bf-0d25-4bc4-ed75-214eb53462c7"
      },
      "outputs": [
        {
          "output_type": "display_data",
          "data": {
            "text/plain": [
              "<Figure size 720x360 with 1 Axes>"
            ],
            "image/png": "[encoded data removed]"
          },
          "metadata": {
            "needs_background": "light"
          }
        }
      ],
      "source": [
        "#@title\n",
        "algos = ['CNN', 'VGG16', 'InceptionV3', 'Resnet50']\n",
        "accuracy = [accuracy_cnn, accuracy_vgg, accuracy_incep, accuracy_resnet]\n",
        "accuracy = np.floor([i * 100 for i in accuracy])\n",
        "  \n",
        "fig = plt.figure(figsize = (10, 5))\n",
        " \n",
        "# creating the bar plot\n",
        "plt.bar(algos, accuracy, color ='red', width = 0.3)\n",
        " \n",
        "plt.xlabel(\"Algorithms Applied\")\n",
        "plt.ylabel(\"Accuracy\")\n",
        "plt.show()"
      ]
    },
    {
      "cell_type": "markdown",
      "metadata": {
        "id": "PQJ9YY_jnAyo"
      },
      "source": [
        "### Predictions"
      ]
    },
    {
      "cell_type": "code",
      "execution_count": 55,
      "metadata": {
        "execution": {
          "iopub.execute_input": "2022-01-13T13:38:03.862281Z",
          "iopub.status.busy": "2022-01-13T13:38:03.861996Z",
          "iopub.status.idle": "2022-01-13T13:38:03.868256Z",
          "shell.execute_reply": "2022-01-13T13:38:03.867522Z",
          "shell.execute_reply.started": "2022-01-13T13:38:03.862251Z"
        },
        "id": "wELmQaSMnAyo",
        "cellView": "form"
      },
      "outputs": [],
      "source": [
        "#@title\n",
        "def chestScanPrediction(path, _model):\n",
        "    classes_dir = [\"Adenocarcinoma\",\"Large cell carcinoma\",\"Normal\",\"Squamous cell carcinoma\"]\n",
        "    # Loading Image\n",
        "    img = image.load_img(path, target_size=(128,128))\n",
        "    # Normalizing Image\n",
        "    norm_img = image.img_to_array(img)/255\n",
        "    # Converting Image to Numpy Array\n",
        "    input_arr_img = np.array([norm_img])\n",
        "    # Getting Predictions\n",
        "    pred = np.argmax(_model.predict(input_arr_img))\n",
        "    # Printing Model Prediction\n",
        "    print(classes_dir[pred])"
      ]
    },
    {
      "cell_type": "code",
      "execution_count": 56,
      "metadata": {
        "execution": {
          "iopub.execute_input": "2022-01-13T13:38:07.676669Z",
          "iopub.status.busy": "2022-01-13T13:38:07.676017Z",
          "iopub.status.idle": "2022-01-13T13:38:09.112567Z",
          "shell.execute_reply": "2022-01-13T13:38:09.111826Z",
          "shell.execute_reply.started": "2022-01-13T13:38:07.676632Z"
        },
        "id": "yfKavXcknAyo",
        "scrolled": true,
        "cellView": "form",
        "collapsed": true,
        "colab": {
          "base_uri": "https://localhost:8080/"
        },
        "outputId": "b8dfa370-e790-4d17-cce8-970707a946d0"
      },
      "outputs": [
        {
          "output_type": "stream",
          "name": "stdout",
          "text": [
            "1/1 [==============================] - 0s 309ms/step\n",
            "Normal\n"
          ]
        }
      ],
      "source": [
        "#@title\n",
        "path = \"/content/drive/MyDrive/RajaProject/Lung_CT/2.jpg\"\n",
        "chestScanPrediction(path,model1)"
      ]
    },
    {
      "cell_type": "code",
      "execution_count": 56,
      "metadata": {
        "id": "rGiRb-hBjZF_"
      },
      "outputs": [],
      "source": []
    },
    {
      "cell_type": "code",
      "execution_count": 57,
      "metadata": {
        "id": "O2FIT33ywpbV",
        "colab": {
          "base_uri": "https://localhost:8080/"
        },
        "outputId": "60002346-c75a-4cd5-8c6f-59838f607012"
      },
      "outputs": [
        {
          "output_type": "stream",
          "name": "stdout",
          "text": [
            "1/1 [==============================] - 0s 24ms/step\n",
            "1/1 [==============================] - 0s 22ms/step\n",
            "1/1 [==============================] - 0s 20ms/step\n",
            "1/1 [==============================] - 0s 15ms/step\n",
            "1/1 [==============================] - 0s 16ms/step\n",
            "1/1 [==============================] - 0s 19ms/step\n",
            "1/1 [==============================] - 0s 16ms/step\n",
            "1/1 [==============================] - 0s 27ms/step\n",
            "1/1 [==============================] - 0s 15ms/step\n",
            "1/1 [==============================] - 0s 14ms/step\n",
            "1/1 [==============================] - 0s 15ms/step\n",
            "1/1 [==============================] - 0s 16ms/step\n",
            "1/1 [==============================] - 0s 17ms/step\n",
            "1/1 [==============================] - 0s 17ms/step\n",
            "1/1 [==============================] - 0s 16ms/step\n",
            "1/1 [==============================] - 0s 17ms/step\n",
            "1/1 [==============================] - 0s 15ms/step\n",
            "1/1 [==============================] - 0s 17ms/step\n",
            "1/1 [==============================] - 0s 15ms/step\n",
            "1/1 [==============================] - 0s 17ms/step\n",
            "1/1 [==============================] - 0s 16ms/step\n",
            "1/1 [==============================] - 0s 15ms/step\n",
            "1/1 [==============================] - 0s 17ms/step\n",
            "1/1 [==============================] - 0s 16ms/step\n",
            "1/1 [==============================] - 0s 19ms/step\n",
            "1/1 [==============================] - 0s 15ms/step\n",
            "1/1 [==============================] - 0s 15ms/step\n",
            "1/1 [==============================] - 0s 17ms/step\n",
            "1/1 [==============================] - 0s 17ms/step\n",
            "1/1 [==============================] - 0s 14ms/step\n",
            "1/1 [==============================] - 0s 23ms/step\n",
            "1/1 [==============================] - 0s 25ms/step\n",
            "1/1 [==============================] - 0s 18ms/step\n",
            "1/1 [==============================] - 0s 17ms/step\n",
            "1/1 [==============================] - 0s 17ms/step\n",
            "1/1 [==============================] - 0s 17ms/step\n",
            "1/1 [==============================] - 0s 19ms/step\n",
            "1/1 [==============================] - 0s 15ms/step\n",
            "1/1 [==============================] - 0s 15ms/step\n",
            "1/1 [==============================] - 0s 15ms/step\n",
            "1/1 [==============================] - 0s 16ms/step\n",
            "1/1 [==============================] - 0s 14ms/step\n",
            "1/1 [==============================] - 0s 14ms/step\n",
            "1/1 [==============================] - 0s 17ms/step\n",
            "1/1 [==============================] - 0s 17ms/step\n",
            "1/1 [==============================] - 0s 15ms/step\n",
            "1/1 [==============================] - 0s 18ms/step\n",
            "1/1 [==============================] - 0s 15ms/step\n",
            "1/1 [==============================] - 0s 16ms/step\n",
            "1/1 [==============================] - 0s 14ms/step\n",
            "1/1 [==============================] - 0s 15ms/step\n",
            "1/1 [==============================] - 0s 16ms/step\n",
            "1/1 [==============================] - 0s 17ms/step\n",
            "1/1 [==============================] - 0s 15ms/step\n",
            "1/1 [==============================] - 0s 18ms/step\n",
            "1/1 [==============================] - 0s 15ms/step\n",
            "1/1 [==============================] - 0s 19ms/step\n",
            "1/1 [==============================] - 0s 17ms/step\n",
            "1/1 [==============================] - 0s 17ms/step\n",
            "1/1 [==============================] - 0s 17ms/step\n",
            "1/1 [==============================] - 0s 16ms/step\n",
            "1/1 [==============================] - 0s 18ms/step\n",
            "1/1 [==============================] - 0s 17ms/step\n",
            "1/1 [==============================] - 0s 21ms/step\n",
            "1/1 [==============================] - 0s 19ms/step\n",
            "1/1 [==============================] - 0s 16ms/step\n",
            "1/1 [==============================] - 0s 17ms/step\n",
            "1/1 [==============================] - 0s 16ms/step\n",
            "1/1 [==============================] - 0s 18ms/step\n",
            "1/1 [==============================] - 0s 18ms/step\n",
            "1/1 [==============================] - 0s 16ms/step\n",
            "1/1 [==============================] - 0s 16ms/step\n",
            "1/1 [==============================] - 0s 17ms/step\n",
            "1/1 [==============================] - 0s 18ms/step\n",
            "1/1 [==============================] - 0s 17ms/step\n",
            "1/1 [==============================] - 0s 16ms/step\n",
            "1/1 [==============================] - 0s 15ms/step\n",
            "1/1 [==============================] - 0s 15ms/step\n",
            "1/1 [==============================] - 0s 17ms/step\n",
            "1/1 [==============================] - 0s 18ms/step\n",
            "1/1 [==============================] - 0s 15ms/step\n",
            "1/1 [==============================] - 0s 18ms/step\n",
            "1/1 [==============================] - 0s 16ms/step\n",
            "1/1 [==============================] - 0s 16ms/step\n",
            "1/1 [==============================] - 0s 17ms/step\n",
            "1/1 [==============================] - 0s 15ms/step\n",
            "1/1 [==============================] - 0s 15ms/step\n",
            "1/1 [==============================] - 0s 23ms/step\n",
            "1/1 [==============================] - 0s 16ms/step\n",
            "1/1 [==============================] - 0s 16ms/step\n",
            "1/1 [==============================] - 0s 18ms/step\n",
            "1/1 [==============================] - 0s 20ms/step\n",
            "1/1 [==============================] - 0s 17ms/step\n",
            "1/1 [==============================] - 0s 15ms/step\n",
            "1/1 [==============================] - 0s 15ms/step\n",
            "1/1 [==============================] - 0s 15ms/step\n",
            "1/1 [==============================] - 0s 16ms/step\n",
            "1/1 [==============================] - 0s 21ms/step\n",
            "1/1 [==============================] - 0s 17ms/step\n",
            "1/1 [==============================] - 0s 16ms/step\n",
            "1/1 [==============================] - 0s 17ms/step\n",
            "1/1 [==============================] - 0s 17ms/step\n",
            "1/1 [==============================] - 0s 18ms/step\n",
            "1/1 [==============================] - 0s 17ms/step\n",
            "1/1 [==============================] - 0s 16ms/step\n",
            "1/1 [==============================] - 0s 17ms/step\n",
            "1/1 [==============================] - 0s 17ms/step\n",
            "1/1 [==============================] - 0s 15ms/step\n",
            "1/1 [==============================] - 0s 16ms/step\n",
            "1/1 [==============================] - 0s 18ms/step\n",
            "1/1 [==============================] - 0s 15ms/step\n",
            "1/1 [==============================] - 0s 15ms/step\n",
            "1/1 [==============================] - 0s 18ms/step\n",
            "1/1 [==============================] - 0s 15ms/step\n",
            "1/1 [==============================] - 0s 18ms/step\n",
            "1/1 [==============================] - 0s 17ms/step\n",
            "1/1 [==============================] - 0s 18ms/step\n",
            "1/1 [==============================] - 0s 15ms/step\n",
            "1/1 [==============================] - 0s 15ms/step\n",
            "1/1 [==============================] - 0s 18ms/step\n",
            "1/1 [==============================] - 0s 15ms/step\n",
            "1/1 [==============================] - 0s 15ms/step\n",
            "1/1 [==============================] - 0s 16ms/step\n",
            "1/1 [==============================] - 0s 15ms/step\n",
            "1/1 [==============================] - 0s 15ms/step\n",
            "1/1 [==============================] - 0s 17ms/step\n",
            "1/1 [==============================] - 0s 16ms/step\n",
            "1/1 [==============================] - 0s 15ms/step\n",
            "1/1 [==============================] - 0s 17ms/step\n"
          ]
        }
      ],
      "source": [
        "from sklearn.metrics import confusion_matrix, classification_report, accuracy_score\n",
        "import cv2\n",
        "prediction = []\n",
        "original = []\n",
        "images = []\n",
        "\n",
        "for i in range(len(os.listdir(test_path))):\n",
        "  for item in os.listdir(os.path.join(test_path,str(i))):\n",
        "    x=os.path.join(test_path,str(i),item)\n",
        "    \n",
        "    img= cv2.imread(x)\n",
        "    img = cv2.resize(img,(128,128))\n",
        "    images.append(img)\n",
        "    img = img / 255\n",
        "    img = img.reshape(-1,128,128,3)\n",
        "    predict = model1.predict(img)\n",
        "    predict = np.argmax(predict)\n",
        "    prediction.append(predict)\n",
        "    original.append(i)"
      ]
    },
    {
      "cell_type": "code",
      "execution_count": 58,
      "metadata": {
        "id": "hWaU_fyKjZGB"
      },
      "outputs": [],
      "source": [
        "# labels Translator \n",
        "label_names = {0 : 'ade', 1 : 'carc' , 2: 'normal', 3 : 'squa'}"
      ]
    },
    {
      "cell_type": "code",
      "execution_count": 59,
      "metadata": {
        "id": "ryvGfV0RjZGB",
        "colab": {
          "base_uri": "https://localhost:8080/"
        },
        "outputId": "9ac3a897-aa96-4b3c-dc40-1b6d9074d95b"
      },
      "outputs": [
        {
          "output_type": "stream",
          "name": "stdout",
          "text": [
            "Test Accuracy : 0.7054263565891473\n"
          ]
        }
      ],
      "source": [
        "score = accuracy_score(original,prediction)\n",
        "print(\"Test Accuracy : {}\".format(score))"
      ]
    },
    {
      "cell_type": "code",
      "execution_count": 60,
      "metadata": {
        "id": "Bjc9v2bgjZGB",
        "colab": {
          "base_uri": "https://localhost:8080/",
          "height": 0
        },
        "outputId": "3bd838c5-ddf5-4675-8d87-c4f69fb62776"
      },
      "outputs": [
        {
          "output_type": "display_data",
          "data": {
            "text/plain": [
              "<Figure size 864x864 with 25 Axes>"
            ],
            "image/png": "[encoded data removed]"
          },
          "metadata": {
            "needs_background": "light"
          }
        }
      ],
      "source": [
        "L = 5\n",
        "W = 5\n",
        "import random\n",
        "\n",
        "fig, axes = plt.subplots(L, W, figsize = (12, 12))\n",
        "axes = axes.ravel()\n",
        "\n",
        "for i in np.arange(0, L*W):\n",
        "    \n",
        "    axes[i].imshow(images[i])\n",
        "    axes[i].set_title('Guess={}\\nTrue={}'.format(str(label_names[prediction[i]]), str(label_names[original[i]])))\n",
        "    axes[i].axis('off')\n",
        "    \n",
        "\n",
        "plt.subplots_adjust(wspace = 1.2) "
      ]
    },
    {
      "cell_type": "code",
      "execution_count": 61,
      "metadata": {
        "id": "zVDjhT3ljZGB",
        "colab": {
          "base_uri": "https://localhost:8080/"
        },
        "outputId": "513ae3f9-9735-4b01-bf4b-e5e0d387f7b8"
      },
      "outputs": [
        {
          "output_type": "stream",
          "name": "stdout",
          "text": [
            "              precision    recall  f1-score   support\n",
            "\n",
            "           0       0.60      0.87      0.71        30\n",
            "           1       0.64      0.62      0.63        26\n",
            "           2       1.00      0.70      0.82        53\n",
            "           3       0.50      0.60      0.55        20\n",
            "\n",
            "    accuracy                           0.71       129\n",
            "   macro avg       0.69      0.70      0.68       129\n",
            "weighted avg       0.76      0.71      0.71       129\n",
            "\n"
          ]
        }
      ],
      "source": [
        "print(classification_report(np.asarray(original), np.asarray(prediction)))"
      ]
    },
    {
      "cell_type": "code",
      "execution_count": 62,
      "metadata": {
        "id": "G37hyZHCjZGB",
        "colab": {
          "base_uri": "https://localhost:8080/",
          "height": 0
        },
        "outputId": "fb578315-8a38-43e7-e9d1-2d9121a387e4"
      },
      "outputs": [
        {
          "output_type": "execute_result",
          "data": {
            "text/plain": [
              "Text(0.5, 1.0, 'Confusion_matrix')"
            ]
          },
          "metadata": {},
          "execution_count": 62
        },
        {
          "output_type": "display_data",
          "data": {
            "text/plain": [
              "<Figure size 432x288 with 2 Axes>"
            ],
            "image/png": "[encoded data removed]"
          },
          "metadata": {
            "needs_background": "light"
          }
        }
      ],
      "source": [
        "cm = confusion_matrix(np.asarray(original), np.asarray(prediction))\n",
        "ax = plt.subplot()\n",
        "sns.heatmap(cm, annot = True, ax = ax)\n",
        "\n",
        "ax.set_xlabel('Predicted')\n",
        "ax.set_ylabel('Original')\n",
        "ax.set_title('Confusion_matrix')"
      ]
    },
    {
      "cell_type": "code",
      "execution_count": 62,
      "metadata": {
        "id": "KSHVg2bNjZGC"
      },
      "outputs": [],
      "source": []
    },
    {
      "cell_type": "code",
      "execution_count": 62,
      "metadata": {
        "id": "KcGZXmv9jZGC"
      },
      "outputs": [],
      "source": []
    },
    {
      "cell_type": "code",
      "source": [],
      "metadata": {
        "id": "UbTK6ta6Uh1N"
      },
      "execution_count": 62,
      "outputs": []
    },
    {
      "cell_type": "code",
      "source": [],
      "metadata": {
        "id": "2Q2EQsbIXgOA"
      },
      "execution_count": 62,
      "outputs": []
    }
  ],
  "metadata": {
    "accelerator": "GPU",
    "colab": {
      "provenance": [],
      "include_colab_link": true
    },
    "gpuClass": "standard",
    "kernelspec": {
      "display_name": "Python 3 (ipykernel)",
      "language": "python",
      "name": "python3"
    },
    "language_info": {
      "codemirror_mode": {
        "name": "ipython",
        "version": 3
      },
      "file_extension": ".py",
      "mimetype": "text/x-python",
      "name": "python",
      "nbconvert_exporter": "python",
      "pygments_lexer": "ipython3",
      "version": "3.9.13"
    }
  },
  "nbformat": 4,
  "nbformat_minor": 0
}